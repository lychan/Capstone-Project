{
 "cells": [
  {
   "cell_type": "markdown",
   "id": "03a6abde",
   "metadata": {
    "id": "03a6abde"
   },
   "source": [
    "## Final Data Cleaning\n",
    "\n",
    "For this sprint, I revistied and cleaned up some of the steps I have done for the data cleaning in my previous sprint, finishd grouping the CommonName by tropic levels and freshwater vs. saltwater, removed duplicates, assigned numeric null value based on species groups, converted unit values, and rearranged analytes data frames.\n",
    "\n",
    "Another point to note is that initially I performed the data cleaning on the full dataset instead of the 20% sample."
   ]
  },
  {
   "cell_type": "code",
   "execution_count": 1,
   "id": "117cc5ef-1648-4049-b043-fbf274e4b013",
   "metadata": {
    "id": "117cc5ef-1648-4049-b043-fbf274e4b013"
   },
   "outputs": [],
   "source": [
    "import pandas as pd\n",
    "import numpy as np\n",
    "pd.set_option('display.max_columns', None) #just to makes sure all columns are visible\n"
   ]
  },
  {
   "cell_type": "code",
   "execution_count": 2,
   "id": "a3606c96-4f16-46e8-93eb-b0d30fa7f689",
   "metadata": {
    "colab": {
     "base_uri": "https://localhost:8080/"
    },
    "id": "a3606c96-4f16-46e8-93eb-b0d30fa7f689",
    "outputId": "2cac79d5-1107-4b4e-86e1-2cac018554a6"
   },
   "outputs": [],
   "source": [
    "df2 = pd.read_csv('Tissue_dataset_2019_2023.csv', low_memory=False)"
   ]
  },
  {
   "cell_type": "code",
   "execution_count": 3,
   "id": "1a684c18",
   "metadata": {
    "colab": {
     "base_uri": "https://localhost:8080/"
    },
    "id": "1a684c18",
    "outputId": "acef0c89-762b-496a-a5d1-74720c6fa7da"
   },
   "outputs": [
    {
     "data": {
      "text/plain": [
       "(216797, 117)"
      ]
     },
     "execution_count": 3,
     "metadata": {},
     "output_type": "execute_result"
    }
   ],
   "source": [
    "df2.shape "
   ]
  },
  {
   "cell_type": "markdown",
   "id": "f55044d9",
   "metadata": {
    "id": "f55044d9"
   },
   "source": [
    "### Preliminary Columns Exploration\n",
    "\n",
    "Some of the key information I could pick up from the headers are:\n",
    "- CommonName(Species)\n",
    "- Analytes(Chemicals)\n",
    "- Result(Analytes results)\n",
    "- StationName(Locations)\n",
    "- Latitude, Longitude\n",
    "\n",
    "These are key informations to have since the analysis is mainly focused on the levels of harmful chemical presence in which species and at what location"
   ]
  },
  {
   "cell_type": "code",
   "execution_count": 4,
   "id": "01f8e873-7c44-4ad0-abff-f0d30a6eea18",
   "metadata": {
    "colab": {
     "base_uri": "https://localhost:8080/"
    },
    "id": "01f8e873-7c44-4ad0-abff-f0d30a6eea18",
    "outputId": "73adb904-08cf-4fbb-a8fe-eb857842dc38"
   },
   "outputs": [
    {
     "data": {
      "text/plain": [
       "(216797, 117)"
      ]
     },
     "execution_count": 4,
     "metadata": {},
     "output_type": "execute_result"
    }
   ],
   "source": [
    "df2.shape"
   ]
  },
  {
   "cell_type": "code",
   "execution_count": 5,
   "id": "cb0f3401",
   "metadata": {
    "colab": {
     "base_uri": "https://localhost:8080/"
    },
    "id": "cb0f3401",
    "outputId": "d3338e81-7b7c-43cd-f4ea-1fd5da8a15a1"
   },
   "outputs": [
    {
     "data": {
      "text/plain": [
       "3943668"
      ]
     },
     "execution_count": 5,
     "metadata": {},
     "output_type": "execute_result"
    }
   ],
   "source": [
    "null_counts = df2.isnull().sum().sum()\n",
    "null_counts"
   ]
  },
  {
   "cell_type": "code",
   "execution_count": 6,
   "id": "70a3af30",
   "metadata": {
    "colab": {
     "base_uri": "https://localhost:8080/"
    },
    "id": "70a3af30",
    "outputId": "4e570375-1506-4b93-c2df-e0dfbf106030"
   },
   "outputs": [
    {
     "data": {
      "text/plain": [
       "21421581"
      ]
     },
     "execution_count": 6,
     "metadata": {},
     "output_type": "execute_result"
    }
   ],
   "source": [
    "counts = df2.count().sum() #total value counts in dataframe\n",
    "counts"
   ]
  },
  {
   "cell_type": "code",
   "execution_count": 7,
   "id": "c55260ca",
   "metadata": {
    "colab": {
     "base_uri": "https://localhost:8080/"
    },
    "id": "c55260ca",
    "outputId": "9a0edac1-dbe9-4652-9622-340e698fa324"
   },
   "outputs": [
    {
     "data": {
      "text/plain": [
       "15.54752330639451"
      ]
     },
     "execution_count": 7,
     "metadata": {},
     "output_type": "execute_result"
    }
   ],
   "source": [
    "null_counts/(counts+null_counts)*100 # total amounts of values in DF\n"
   ]
  },
  {
   "cell_type": "markdown",
   "id": "db683d26",
   "metadata": {
    "id": "db683d26"
   },
   "source": [
    "Next I want to look into our three most important columns - CommonName, Analyte, & StationName to get a sense of what kind of general group would be needed"
   ]
  },
  {
   "cell_type": "code",
   "execution_count": 8,
   "id": "de06db92",
   "metadata": {
    "colab": {
     "base_uri": "https://localhost:8080/"
    },
    "id": "de06db92",
    "outputId": "6920dc19-91ed-4945-c483-affa4133726f"
   },
   "outputs": [
    {
     "data": {
      "text/plain": [
       "644"
      ]
     },
     "execution_count": 8,
     "metadata": {},
     "output_type": "execute_result"
    }
   ],
   "source": [
    "df2['Analyte'].nunique()"
   ]
  },
  {
   "cell_type": "code",
   "execution_count": 9,
   "id": "6286b101",
   "metadata": {
    "colab": {
     "base_uri": "https://localhost:8080/"
    },
    "id": "6286b101",
    "outputId": "ceeac450-d4e9-467b-930d-9bc8fdfb5e9c"
   },
   "outputs": [
    {
     "data": {
      "text/plain": [
       "97"
      ]
     },
     "execution_count": 9,
     "metadata": {},
     "output_type": "execute_result"
    }
   ],
   "source": [
    "df2['CommonName'].nunique()"
   ]
  },
  {
   "cell_type": "code",
   "execution_count": 10,
   "id": "d8930384",
   "metadata": {
    "colab": {
     "base_uri": "https://localhost:8080/"
    },
    "id": "d8930384",
    "outputId": "1bf706d2-8ff7-41e1-b9af-3c9042996a44"
   },
   "outputs": [
    {
     "data": {
      "text/plain": [
       "220"
      ]
     },
     "execution_count": 10,
     "metadata": {},
     "output_type": "execute_result"
    }
   ],
   "source": [
    "df2['StationName'].nunique()"
   ]
  },
  {
   "cell_type": "markdown",
   "id": "6f6aa2a1",
   "metadata": {
    "id": "6f6aa2a1"
   },
   "source": [
    "### Data Cleaning - Dropping Columns\n",
    "\n",
    "To begin data cleaning, I am looking at columns that I can drop. Couple reasons for doing this is:\n",
    "\n",
    "1) If I drop columns that are not needed for analysis and contains lots of null values, that would take care of some of the null values we see above\n",
    "\n",
    "2) It condenses the dataframe into a more managable size for my computer to handle\n",
    "\n",
    "\n",
    "Since I mainly want to focus on correlations between analyte, species, and location, I can drop a lot of fields that are unrelated to those values. The data that we want to focus on is the field data, not the lab research methods data. \n",
    "\n",
    "Dictionary of columns could be found here: https://data.ca.gov/dataset/surface-water-aquatic-organism-tissue-sample-results/resource/206da2ff-70f2-4f56-aacc-2a39ef3bf15b\n",
    "\n",
    "Data that is not core for the purpose of this analysis would be: \n",
    "- Tissue sample preparation methods\n",
    "- Internal codes used for agency reporting\n",
    "- Columns that are all nulls\n",
    "- Comments regarding lab analysis methods\n",
    "- Project agencies information\n",
    "\n",
    "Columns about sample prep methods:      \n",
    "TissuePrep,Matrix,Method,DilutionFactor,PrepPreservationName,PrepPreservationDate,DigestExtractMethod,DigestExtractDate,AnalysisDate,CompositeTissuePrep,CollectionMethodName,CollectionDeviceName,LengthSource,WeightSource,Datum,MDL,RL,CollectionTime\n",
    "\n",
    "Columns containing internal compliance/quality codes: QACode,QACode,BatchVerification,ComplianceCode,LabSubmissionCode,GroupSample,HydroModLoc,TagNumber,CompositeRowID,PersonnelCode,DWC_AnalyteWFraction,ResQualCode\n",
    "\n",
    "Columns that are mostly null and does not pertain critical information: ResultComments,CompositeJunctionRowID,SizeDescr,SampleID\n",
    "\n",
    "Columns that are comments regarding lab analysis methods: LabBatchComments,CompositeComments,ProcessedOrganismsExpandedComments,PartsComments,SampleComments,TissueCollectionComments,LocationDetailTIComments,DataQuality,DataQualityIndicator\n",
    "\n",
    "Columns about agencies: CompAgency,AnalyzingAgency,SubmittingAgency,CompositeParentProjectName,CompositeProjectCode,CompositeProjectName,SamplingAgency,ProgramName,ParentProjectName,ProjectCode\n"
   ]
  },
  {
   "cell_type": "code",
   "execution_count": 11,
   "id": "7cc4c19f-4edf-4a87-8c9b-0f89fd3c0c74",
   "metadata": {
    "colab": {
     "base_uri": "https://localhost:8080/"
    },
    "id": "7cc4c19f-4edf-4a87-8c9b-0f89fd3c0c74",
    "outputId": "0c801d38-c9da-4291-8e55-34346e320c1a"
   },
   "outputs": [
    {
     "data": {
      "text/plain": [
       "62"
      ]
     },
     "execution_count": 11,
     "metadata": {},
     "output_type": "execute_result"
    }
   ],
   "source": [
    "drop_list = ['TissuePrep',\n",
    " 'Matrix',\n",
    " 'Method',\n",
    " 'QACode',\n",
    " 'BatchVerification',\n",
    " 'ComplianceCode',\n",
    " 'DilutionFactor',\n",
    " 'ResultComments',\n",
    " 'PrepPreservationName',\n",
    " 'PrepPreservationDate',\n",
    " 'DigestExtractMethod',\n",
    " 'DigestExtractDate',\n",
    " 'AnalysisDate',\n",
    " 'CompositeComments',\n",
    " 'LabBatch',\n",
    " 'LabBatchComments',\n",
    " 'AnalyzingAgency',\n",
    " 'SubmittingAgency',\n",
    " 'LabSubmissionCode',\n",
    " 'LatestDateSampled',\n",
    " 'SampleDateRange(Days)',\n",
    " 'SampleDate',\n",
    " 'CollectionTime',\n",
    " 'CompositeParentProjectName',\n",
    " 'CompositeProjectCode',\n",
    " 'CompositeProjectName',\n",
    " 'CompositeSampleDate',\n",
    " 'CompositeProgramName',\n",
    " 'CompositeTissuePrep',\n",
    " 'SamplingAgency',\n",
    " 'GroupSample',\n",
    " 'ProtocolCode',\n",
    " 'LocationCode',\n",
    " 'HydroModLoc',\n",
    " 'Hydromod',\n",
    " 'CollectionMethodName',\n",
    " 'CollectionDeviceName',\n",
    " 'TagNumber',\n",
    " 'LengthSource',\n",
    " 'WeightSource',\n",
    " 'Anomaly',\n",
    " 'ProcessedOrganismsExpandedComments',\n",
    " 'PartsComments',\n",
    " 'CompAgency',\n",
    " 'CompositeRowID',\n",
    " 'PersonnelCode',\n",
    " 'SampleComments',\n",
    " 'TissueCollectionComments',\n",
    " 'LocationDetailTIComments',\n",
    " 'CompositeJunctionRowID',\n",
    " 'DWC_AnalyteWFraction',\n",
    " 'DataQuality',\n",
    " 'DataQualityIndicator',\n",
    " 'Datum',\n",
    " 'SizeDescr',\n",
    " 'ResQualCode',\n",
    " 'MDL',\n",
    " 'RL',\n",
    " 'ProgramName',\n",
    " 'ParentProjectName',\n",
    " 'ProjectCode',\n",
    " 'SampleID']\n",
    "\n",
    "len(drop_list)"
   ]
  },
  {
   "cell_type": "code",
   "execution_count": 12,
   "id": "70ef1e12-e63a-45ca-91d6-cae8fbaca690",
   "metadata": {
    "colab": {
     "base_uri": "https://localhost:8080/",
     "height": 573
    },
    "id": "70ef1e12-e63a-45ca-91d6-cae8fbaca690",
    "outputId": "605c4f92-90d5-4eb8-b092-7ebc042fb2f9"
   },
   "outputs": [],
   "source": [
    "df2 = df2.drop(columns = drop_list)\n"
   ]
  },
  {
   "cell_type": "code",
   "execution_count": 13,
   "id": "f5f4455b-2865-4507-9e4a-5e3176f153b6",
   "metadata": {
    "colab": {
     "base_uri": "https://localhost:8080/"
    },
    "id": "f5f4455b-2865-4507-9e4a-5e3176f153b6",
    "outputId": "6bc41c3c-e332-40b1-f856-8e21aa87f2ea"
   },
   "outputs": [
    {
     "data": {
      "text/plain": [
       "(216797, 55)"
      ]
     },
     "execution_count": 13,
     "metadata": {},
     "output_type": "execute_result"
    }
   ],
   "source": [
    "df2.shape "
   ]
  },
  {
   "cell_type": "markdown",
   "id": "71fb4a6a",
   "metadata": {
    "id": "71fb4a6a"
   },
   "source": [
    "Next, I will look at columns that could hold duplicate information. These columns look like good candidates to example since their headers are almost the same, except one is information on the composite. A composite is when researchers take tissues of multiple critters from the same species in the same location within a small timeframe, and combine them into a single sample to analyze. Lots of times this method is used to analyze smaller organisms such as clams. It is very likely that these columns hold same information."
   ]
  },
  {
   "cell_type": "code",
   "execution_count": 14,
   "id": "e64a5479-f27a-4a94-9447-fe9b50766107",
   "metadata": {
    "colab": {
     "base_uri": "https://localhost:8080/"
    },
    "id": "e64a5479-f27a-4a94-9447-fe9b50766107",
    "outputId": "80d9af62-0b4b-4119-ba11-34e58ace3d30"
   },
   "outputs": [
    {
     "name": "stdout",
     "output_type": "stream",
     "text": [
      "12 12\n"
     ]
    }
   ],
   "source": [
    "#set 1 is the column to keep\n",
    "set_1 = ['CompositeID',\n",
    " 'StationName',\n",
    " 'StationCode',\n",
    " 'Latitude',\n",
    " 'Longitude',\n",
    " 'CompositeType',\n",
    " 'CommonName',\n",
    " 'FinalID',\n",
    " 'TissueName',\n",
    " 'SampleTypeCode',\n",
    " 'CompositeReplicate',\n",
    " 'GeometryShape']\n",
    "\n",
    "#set 2 is the columns to drop is it contains duplicated values as columns in set 1\n",
    "set_2 = ['CompositeCompositeID',\n",
    " 'CompositeStationName',\n",
    " 'CompositeStationCode',\n",
    " 'CompositeLatitude',\n",
    " 'CompositeLongitude',\n",
    " 'CompositeCompositeType',\n",
    " 'CompositeCommonName',\n",
    " 'CompositeFinalID',\n",
    " 'CompositeTissueName',\n",
    " 'CompositeSampleTypeCode',\n",
    " 'CollectionReplicate',\n",
    " 'CompositeGeometryShape']\n",
    "\n",
    "print(len(set_1), len(set_2))"
   ]
  },
  {
   "cell_type": "code",
   "execution_count": 15,
   "id": "6ab0fd6a-86e2-4656-bff1-d9668ce204d5",
   "metadata": {
    "colab": {
     "base_uri": "https://localhost:8080/"
    },
    "id": "6ab0fd6a-86e2-4656-bff1-d9668ce204d5",
    "outputId": "0a3c97f6-98e4-42d2-dac1-de4c8f8c0176",
    "scrolled": true
   },
   "outputs": [
    {
     "name": "stdout",
     "output_type": "stream",
     "text": [
      "CompositeID\n",
      "True    216797\n",
      "Name: count, dtype: int64\n",
      "StationName\n",
      "True    216797\n",
      "Name: count, dtype: int64\n",
      "StationCode\n",
      "True    216797\n",
      "Name: count, dtype: int64\n",
      "Latitude\n",
      "False    183421\n",
      "True      33376\n",
      "Name: count, dtype: int64\n",
      "Longitude\n",
      "False    209878\n",
      "True       6919\n",
      "Name: count, dtype: int64\n",
      "CompositeType\n",
      "True    216797\n",
      "Name: count, dtype: int64\n",
      "CommonName\n",
      "True    216797\n",
      "Name: count, dtype: int64\n",
      "FinalID\n",
      "True    216797\n",
      "Name: count, dtype: int64\n",
      "TissueName\n",
      "True    216797\n",
      "Name: count, dtype: int64\n",
      "SampleTypeCode\n",
      "True    216797\n",
      "Name: count, dtype: int64\n",
      "CompositeReplicate\n",
      "True    216797\n",
      "Name: count, dtype: int64\n",
      "GeometryShape\n",
      "True    216797\n",
      "Name: count, dtype: int64\n"
     ]
    }
   ],
   "source": [
    "for i in range(len(set_1)): # range function iterates down the length of list\n",
    "    compare1 = df2[set_1[i]].isin(df2[set_2[i]]) # compares values of columns in set 1 to values of columns in set 2\n",
    "    print(compare1.value_counts())\n"
   ]
  },
  {
   "cell_type": "code",
   "execution_count": 16,
   "id": "6c2f0b7f",
   "metadata": {
    "colab": {
     "base_uri": "https://localhost:8080/",
     "height": 573
    },
    "id": "6c2f0b7f",
    "outputId": "44d98009-a3cc-4487-874a-8758eec509ca"
   },
   "outputs": [],
   "source": [
    "# I removed 'CompositeStationCode' and 'CompositeLatitude'from the drop list since they are showing false matches with the latitude & longitude columns\n",
    "drop_set_2 = ['CompositeCompositeID',\n",
    " 'CompositeStationName',\n",
    " 'CompositeStationCode',\n",
    " 'CompositeCompositeType',\n",
    " 'CompositeCommonName',\n",
    " 'CompositeFinalID',\n",
    " 'CompositeTissueName',\n",
    " 'CompositeSampleTypeCode',\n",
    " 'CollectionReplicate',\n",
    " 'CompositeGeometryShape']\n",
    "df2 = df2.drop(columns = drop_set_2) # I can now drop these\n"
   ]
  },
  {
   "cell_type": "markdown",
   "id": "6232cbdc",
   "metadata": {
    "id": "6232cbdc"
   },
   "source": [
    "I find it curious that the longitude & latitdue columns are returning some false matches because the StationName for both non-composite and composite samples are the same. It could be some keying errors causing that issue. It is worth it to investigate later on."
   ]
  },
  {
   "cell_type": "code",
   "execution_count": 17,
   "id": "1fa296e0-ad8e-45c3-8dd1-837fe573cef4",
   "metadata": {
    "colab": {
     "base_uri": "https://localhost:8080/"
    },
    "id": "1fa296e0-ad8e-45c3-8dd1-837fe573cef4",
    "outputId": "a398561f-ad53-41f8-96c3-481da9f53271"
   },
   "outputs": [
    {
     "data": {
      "text/plain": [
       "(216797, 45)"
      ]
     },
     "execution_count": 17,
     "metadata": {},
     "output_type": "execute_result"
    }
   ],
   "source": [
    "df2.shape # the columns in set 2 are dropped"
   ]
  },
  {
   "cell_type": "markdown",
   "id": "7f20d8bf",
   "metadata": {
    "id": "7f20d8bf"
   },
   "source": [
    "For this particular column, FinalID, I have a feeling that it is holding the scientific name for the CommonName. To further prove it, I grouped the dataset by the CommonName to see how many unique values of FinalID would show up. It is a 1:1 relationship."
   ]
  },
  {
   "cell_type": "code",
   "execution_count": 18,
   "id": "0b262470",
   "metadata": {
    "colab": {
     "base_uri": "https://localhost:8080/",
     "height": 490
    },
    "id": "0b262470",
    "outputId": "afadb200-62db-4c8a-a410-d7173c99c4a4",
    "scrolled": true
   },
   "outputs": [
    {
     "data": {
      "text/plain": [
       "CommonName\n",
       "Asiatic Clam                       [Potamocorbula amurensis]\n",
       "Barred Sand Bass                      [Paralabrax nebulifer]\n",
       "Barred Surfperch                    [Amphistichus argenteus]\n",
       "Bat Ray                             [Myliobatis californica]\n",
       "Black Crappie                       [Pomoxis nigromaculatus]\n",
       "                                           ...              \n",
       "Yellow shore crab                  [Hemigrapsus oregonensis]\n",
       "Yellowfin Croaker                         [Umbrina roncador]\n",
       "Yellowtail Rockfish                      [Sebastes flavidus]\n",
       "Zebra Perch                              [Hermosilla azurea]\n",
       "Zooplankton (un-identified)    [Zooplankton (un-identified)]\n",
       "Name: FinalID, Length: 97, dtype: object"
      ]
     },
     "execution_count": 18,
     "metadata": {},
     "output_type": "execute_result"
    }
   ],
   "source": [
    "df2.groupby(['CommonName'])['FinalID'].unique() #CommonName & FinalID actually shows same information, FinalID is just the scientific name"
   ]
  },
  {
   "cell_type": "code",
   "execution_count": 19,
   "id": "3c71a879",
   "metadata": {
    "id": "3c71a879",
    "scrolled": true
   },
   "outputs": [],
   "source": [
    "df2 = df2.drop(columns = ['FinalID']) # I can now drop these"
   ]
  },
  {
   "cell_type": "code",
   "execution_count": 20,
   "id": "d75de253",
   "metadata": {
    "colab": {
     "base_uri": "https://localhost:8080/"
    },
    "id": "d75de253",
    "outputId": "e9966f52-de12-4736-e036-2ce42e1e00cd"
   },
   "outputs": [
    {
     "data": {
      "text/plain": [
       "(216797, 44)"
      ]
     },
     "execution_count": 20,
     "metadata": {},
     "output_type": "execute_result"
    }
   ],
   "source": [
    "df2.shape"
   ]
  },
  {
   "cell_type": "markdown",
   "id": "ed418f73",
   "metadata": {
    "id": "ed418f73"
   },
   "source": [
    "### Data Cleaning - Measurement Units Unification\n",
    "\n",
    "Next, I am looking at the columns that hold the measurement unit to see what's in there. I have noticed that for all the mass measurements, the measurement unit is embedded within the column head, i.e.  WeightAvg(g). This gives me a feeling that there are numeric results that represents different measurement unit values."
   ]
  },
  {
   "cell_type": "code",
   "execution_count": 21,
   "id": "d07ac2f5-85a3-4655-a497-d9ec5982e72c",
   "metadata": {
    "colab": {
     "base_uri": "https://localhost:8080/"
    },
    "id": "d07ac2f5-85a3-4655-a497-d9ec5982e72c",
    "outputId": "119af702-9a6e-47c2-e725-5dbf7afc0ded",
    "scrolled": true
   },
   "outputs": [
    {
     "name": "stdout",
     "output_type": "stream",
     "text": [
      "Unit\n",
      "ng/g ww       76743\n",
      "ug/Kg ww      57120\n",
      "% recovery    23591\n",
      "ug/g ww       22511\n",
      "%             20916\n",
      "ng/g dw        6151\n",
      "ug/Kg dw       3544\n",
      "ug/g dw        3013\n",
      "yr             1833\n",
      "% ww            985\n",
      "pg/g dw         322\n",
      "mg/Kg dw         47\n",
      "mg/Kg ww         21\n",
      "Name: count, dtype: int64\n",
      "UnitLengthFish\n",
      "mm    159372\n",
      "cm       366\n",
      "Name: count, dtype: int64\n",
      "UnitWeightFish\n",
      "g    159209\n",
      "Name: count, dtype: int64\n",
      "UnitTissueWeight\n",
      "g    216797\n",
      "Name: count, dtype: int64\n",
      "UnitCompositeWeight\n",
      "g    216797\n",
      "Name: count, dtype: int64\n"
     ]
    }
   ],
   "source": [
    "#taking a look at the unit columns to see what kind of info there is\n",
    "\n",
    "unit = ['Unit','UnitLengthFish','UnitWeightFish','UnitTissueWeight','UnitCompositeWeight']\n",
    "\n",
    "for col in range(len(unit)):\n",
    "    print(df2[unit[col]].value_counts())"
   ]
  },
  {
   "cell_type": "markdown",
   "id": "a2e4b718",
   "metadata": {
    "id": "a2e4b718"
   },
   "source": [
    "All the weight unit columns are in g, I can concatentate the unit into the results header"
   ]
  },
  {
   "cell_type": "code",
   "execution_count": 22,
   "id": "a53515f1",
   "metadata": {
    "colab": {
     "base_uri": "https://localhost:8080/",
     "height": 573
    },
    "id": "a53515f1",
    "outputId": "a215c562-badf-458e-c2a6-d73cf781825e"
   },
   "outputs": [],
   "source": [
    "df2= pd.concat([df2, df2.rename(columns={'OrganismWeight': 'OrganismWeight(g)', 'TissueWeight': 'TissueWeight(g)', 'CompositeWeight': 'CompositeWeight(g)'}, inplace=True)])\n"
   ]
  },
  {
   "cell_type": "code",
   "execution_count": 23,
   "id": "b2ab4497",
   "metadata": {
    "colab": {
     "base_uri": "https://localhost:8080/",
     "height": 573
    },
    "id": "b2ab4497",
    "outputId": "6b11de76-8e22-4ccc-c3a5-e72493b69c1e",
    "scrolled": true
   },
   "outputs": [],
   "source": [
    "df2 = df2.drop(columns = ['UnitWeightFish','UnitTissueWeight','UnitCompositeWeight'])\n",
    "\n",
    "# I can now drop these since these columns have single units and can be indicated in the headers themselves"
   ]
  },
  {
   "cell_type": "markdown",
   "id": "31151701",
   "metadata": {
    "id": "31151701"
   },
   "source": [
    "Now I want to look into converting ForkLength,TotalLength mm values to cm"
   ]
  },
  {
   "cell_type": "code",
   "execution_count": 24,
   "id": "1641d98e",
   "metadata": {
    "colab": {
     "base_uri": "https://localhost:8080/",
     "height": 178
    },
    "id": "1641d98e",
    "outputId": "ea9b8d18-2f05-4e04-e47d-e095751a148f"
   },
   "outputs": [
    {
     "data": {
      "text/plain": [
       "UnitLengthFish\n",
       "cm                               [10.6, 10.0, 8.8, 9.5]\n",
       "mm    [84.0, 75.0, 73.0, 72.0, 61.0, 60.0, 70.0, 110...\n",
       "Name: TotalLength, dtype: object"
      ]
     },
     "execution_count": 24,
     "metadata": {},
     "output_type": "execute_result"
    }
   ],
   "source": [
    "df2.groupby(['UnitLengthFish'])['TotalLength'].unique() # we see there are 4 unique values in cm. We want to change them to mm"
   ]
  },
  {
   "cell_type": "code",
   "execution_count": 25,
   "id": "dc4db668",
   "metadata": {
    "colab": {
     "base_uri": "https://localhost:8080/",
     "height": 178
    },
    "id": "dc4db668",
    "outputId": "ace835c9-bed1-42ab-ed26-fba988175a85"
   },
   "outputs": [
    {
     "data": {
      "text/plain": [
       "UnitLengthFish\n",
       "cm                                                [nan]\n",
       "mm    [-88.0, 134.0, 130.0, 122.0, 106.0, 102.0, 104...\n",
       "Name: ForkLength, dtype: object"
      ]
     },
     "execution_count": 25,
     "metadata": {},
     "output_type": "execute_result"
    }
   ],
   "source": [
    "df2.groupby(['UnitLengthFish'])['ForkLength'].unique() #also checking the ForkLength column, cm is all nulls, we will deal with them later"
   ]
  },
  {
   "cell_type": "code",
   "execution_count": 26,
   "id": "35a5f478",
   "metadata": {
    "colab": {
     "base_uri": "https://localhost:8080/",
     "height": 573
    },
    "id": "35a5f478",
    "outputId": "a31a8fe3-0d8f-42a6-e91c-92d133e47568",
    "scrolled": true
   },
   "outputs": [],
   "source": [
    "#making temp df to store rows for where UnitLengthFish = cm\n",
    "convert_df = df2[(df2['UnitLengthFish']=='cm')]\n"
   ]
  },
  {
   "cell_type": "code",
   "execution_count": 27,
   "id": "cd7519ba",
   "metadata": {
    "colab": {
     "base_uri": "https://localhost:8080/",
     "height": 241
    },
    "id": "cd7519ba",
    "outputId": "16df1d71-e74e-403d-fd65-2af29801ec3e"
   },
   "outputs": [
    {
     "data": {
      "text/plain": [
       "TotalLength\n",
       "10.0    118\n",
       "10.6    110\n",
       "8.8      69\n",
       "9.5      69\n",
       "Name: count, dtype: int64"
      ]
     },
     "execution_count": 27,
     "metadata": {},
     "output_type": "execute_result"
    }
   ],
   "source": [
    "convert_df['TotalLength'].value_counts() #capturing the original values"
   ]
  },
  {
   "cell_type": "code",
   "execution_count": 28,
   "id": "5557cce8",
   "metadata": {
    "colab": {
     "base_uri": "https://localhost:8080/",
     "height": 573
    },
    "id": "5557cce8",
    "outputId": "cd29790b-7950-4e51-c12b-90f36c0f127e"
   },
   "outputs": [
    {
     "data": {
      "text/html": [
       "<div>\n",
       "<style scoped>\n",
       "    .dataframe tbody tr th:only-of-type {\n",
       "        vertical-align: middle;\n",
       "    }\n",
       "\n",
       "    .dataframe tbody tr th {\n",
       "        vertical-align: top;\n",
       "    }\n",
       "\n",
       "    .dataframe thead th {\n",
       "        text-align: right;\n",
       "    }\n",
       "</style>\n",
       "<table border=\"1\" class=\"dataframe\">\n",
       "  <thead>\n",
       "    <tr style=\"text-align: right;\">\n",
       "      <th></th>\n",
       "      <th>ProjectName</th>\n",
       "      <th>CompositeID</th>\n",
       "      <th>StationName</th>\n",
       "      <th>StationCode</th>\n",
       "      <th>Latitude</th>\n",
       "      <th>Longitude</th>\n",
       "      <th>GeometryShape</th>\n",
       "      <th>EarliestDateSampled</th>\n",
       "      <th>CompositeType</th>\n",
       "      <th>CommonName</th>\n",
       "      <th>TissueName</th>\n",
       "      <th>NumberFishperComp</th>\n",
       "      <th>SampleTypeCode</th>\n",
       "      <th>CompositeReplicate</th>\n",
       "      <th>ResultReplicate</th>\n",
       "      <th>Analyte</th>\n",
       "      <th>Unit</th>\n",
       "      <th>Result</th>\n",
       "      <th>LabSampleID</th>\n",
       "      <th>OrganismGroup</th>\n",
       "      <th>WeightAvg(g)</th>\n",
       "      <th>TLMax(mm)</th>\n",
       "      <th>TLAvgLength(mm)</th>\n",
       "      <th>CompSizeCheck</th>\n",
       "      <th>SexSummary</th>\n",
       "      <th>TissueResultRowID</th>\n",
       "      <th>CompositeLatitude</th>\n",
       "      <th>CompositeLongitude</th>\n",
       "      <th>OrganismID</th>\n",
       "      <th>TotalCount</th>\n",
       "      <th>ForkLength</th>\n",
       "      <th>TotalLength</th>\n",
       "      <th>OrganismWeight(g)</th>\n",
       "      <th>UnitLengthFish</th>\n",
       "      <th>Age</th>\n",
       "      <th>Sex</th>\n",
       "      <th>TissueID</th>\n",
       "      <th>TissueWeight(g)</th>\n",
       "      <th>CompositeWeight(g)</th>\n",
       "      <th>HomogonizedDate</th>\n",
       "      <th>TLMin(mm)</th>\n",
       "    </tr>\n",
       "  </thead>\n",
       "  <tbody>\n",
       "    <tr>\n",
       "      <th>140151</th>\n",
       "      <td>City of Long Beach Colorado Lagoon TMDL Monito...</td>\n",
       "      <td>F1-190709</td>\n",
       "      <td>Composite of 3 sub areas within the Western Ar...</td>\n",
       "      <td>F1</td>\n",
       "      <td>33.771563</td>\n",
       "      <td>-118.133022</td>\n",
       "      <td>PointCent</td>\n",
       "      <td>07/09/2019</td>\n",
       "      <td>Normal</td>\n",
       "      <td>Top Smelt</td>\n",
       "      <td>whole organism</td>\n",
       "      <td>26.0</td>\n",
       "      <td>Composite</td>\n",
       "      <td>1.0</td>\n",
       "      <td>1.0</td>\n",
       "      <td>Acenaphthylene</td>\n",
       "      <td>ug/Kg ww</td>\n",
       "      <td>NaN</td>\n",
       "      <td>570-1214-1</td>\n",
       "      <td>Fish</td>\n",
       "      <td>NaN</td>\n",
       "      <td>10.6</td>\n",
       "      <td>10.6</td>\n",
       "      <td>100.0</td>\n",
       "      <td>Unk (26), M (0), F (0)</td>\n",
       "      <td>E9D9E947-B325-436D-8A1B-FDB1266522DC</td>\n",
       "      <td>33.7716</td>\n",
       "      <td>-118.133</td>\n",
       "      <td>F1-190709</td>\n",
       "      <td>26.0</td>\n",
       "      <td>NaN</td>\n",
       "      <td>1.06</td>\n",
       "      <td>-88.0</td>\n",
       "      <td>cm</td>\n",
       "      <td>NaN</td>\n",
       "      <td>Unk</td>\n",
       "      <td>30083058</td>\n",
       "      <td>-88.0</td>\n",
       "      <td>-88.0</td>\n",
       "      <td>01/01/1950</td>\n",
       "      <td>10.6</td>\n",
       "    </tr>\n",
       "    <tr>\n",
       "      <th>140152</th>\n",
       "      <td>City of Long Beach Colorado Lagoon TMDL Monito...</td>\n",
       "      <td>F1-190709</td>\n",
       "      <td>Composite of 3 sub areas within the Western Ar...</td>\n",
       "      <td>F1</td>\n",
       "      <td>33.771563</td>\n",
       "      <td>-118.133022</td>\n",
       "      <td>PointCent</td>\n",
       "      <td>07/09/2019</td>\n",
       "      <td>Normal</td>\n",
       "      <td>Top Smelt</td>\n",
       "      <td>whole organism</td>\n",
       "      <td>26.0</td>\n",
       "      <td>Composite</td>\n",
       "      <td>1.0</td>\n",
       "      <td>1.0</td>\n",
       "      <td>Acenaphthylene</td>\n",
       "      <td>ug/Kg ww</td>\n",
       "      <td>NaN</td>\n",
       "      <td>570-1214-1</td>\n",
       "      <td>Fish</td>\n",
       "      <td>NaN</td>\n",
       "      <td>10.6</td>\n",
       "      <td>10.6</td>\n",
       "      <td>100.0</td>\n",
       "      <td>Unk (26), M (0), F (0)</td>\n",
       "      <td>6A88ACD2-5796-4626-9DB5-56E3408DD489</td>\n",
       "      <td>33.7716</td>\n",
       "      <td>-118.133</td>\n",
       "      <td>F1-190709</td>\n",
       "      <td>26.0</td>\n",
       "      <td>NaN</td>\n",
       "      <td>1.06</td>\n",
       "      <td>-88.0</td>\n",
       "      <td>cm</td>\n",
       "      <td>NaN</td>\n",
       "      <td>Unk</td>\n",
       "      <td>30083058</td>\n",
       "      <td>-88.0</td>\n",
       "      <td>-88.0</td>\n",
       "      <td>01/01/1950</td>\n",
       "      <td>10.6</td>\n",
       "    </tr>\n",
       "    <tr>\n",
       "      <th>140153</th>\n",
       "      <td>City of Long Beach Colorado Lagoon TMDL Monito...</td>\n",
       "      <td>F1-190709</td>\n",
       "      <td>Composite of 3 sub areas within the Western Ar...</td>\n",
       "      <td>F1</td>\n",
       "      <td>33.771563</td>\n",
       "      <td>-118.133022</td>\n",
       "      <td>PointCent</td>\n",
       "      <td>07/09/2019</td>\n",
       "      <td>Normal</td>\n",
       "      <td>Top Smelt</td>\n",
       "      <td>whole organism</td>\n",
       "      <td>26.0</td>\n",
       "      <td>Composite</td>\n",
       "      <td>1.0</td>\n",
       "      <td>1.0</td>\n",
       "      <td>Anthracene</td>\n",
       "      <td>ug/Kg ww</td>\n",
       "      <td>NaN</td>\n",
       "      <td>570-1214-1</td>\n",
       "      <td>Fish</td>\n",
       "      <td>NaN</td>\n",
       "      <td>10.6</td>\n",
       "      <td>10.6</td>\n",
       "      <td>100.0</td>\n",
       "      <td>Unk (26), M (0), F (0)</td>\n",
       "      <td>AFE34DAC-DA9A-48FB-BC50-499EDED604DA</td>\n",
       "      <td>33.7716</td>\n",
       "      <td>-118.133</td>\n",
       "      <td>F1-190709</td>\n",
       "      <td>26.0</td>\n",
       "      <td>NaN</td>\n",
       "      <td>1.06</td>\n",
       "      <td>-88.0</td>\n",
       "      <td>cm</td>\n",
       "      <td>NaN</td>\n",
       "      <td>Unk</td>\n",
       "      <td>30083058</td>\n",
       "      <td>-88.0</td>\n",
       "      <td>-88.0</td>\n",
       "      <td>01/01/1950</td>\n",
       "      <td>10.6</td>\n",
       "    </tr>\n",
       "    <tr>\n",
       "      <th>140154</th>\n",
       "      <td>City of Long Beach Colorado Lagoon TMDL Monito...</td>\n",
       "      <td>F1-190709</td>\n",
       "      <td>Composite of 3 sub areas within the Western Ar...</td>\n",
       "      <td>F1</td>\n",
       "      <td>33.771563</td>\n",
       "      <td>-118.133022</td>\n",
       "      <td>PointCent</td>\n",
       "      <td>07/09/2019</td>\n",
       "      <td>Normal</td>\n",
       "      <td>Top Smelt</td>\n",
       "      <td>whole organism</td>\n",
       "      <td>26.0</td>\n",
       "      <td>Composite</td>\n",
       "      <td>1.0</td>\n",
       "      <td>1.0</td>\n",
       "      <td>Anthracene</td>\n",
       "      <td>ug/Kg ww</td>\n",
       "      <td>NaN</td>\n",
       "      <td>570-1214-1</td>\n",
       "      <td>Fish</td>\n",
       "      <td>NaN</td>\n",
       "      <td>10.6</td>\n",
       "      <td>10.6</td>\n",
       "      <td>100.0</td>\n",
       "      <td>Unk (26), M (0), F (0)</td>\n",
       "      <td>B8B6CB1F-8A74-4BCD-8DC8-DF6BC449A3A2</td>\n",
       "      <td>33.7716</td>\n",
       "      <td>-118.133</td>\n",
       "      <td>F1-190709</td>\n",
       "      <td>26.0</td>\n",
       "      <td>NaN</td>\n",
       "      <td>1.06</td>\n",
       "      <td>-88.0</td>\n",
       "      <td>cm</td>\n",
       "      <td>NaN</td>\n",
       "      <td>Unk</td>\n",
       "      <td>30083058</td>\n",
       "      <td>-88.0</td>\n",
       "      <td>-88.0</td>\n",
       "      <td>01/01/1950</td>\n",
       "      <td>10.6</td>\n",
       "    </tr>\n",
       "    <tr>\n",
       "      <th>140155</th>\n",
       "      <td>City of Long Beach Colorado Lagoon TMDL Monito...</td>\n",
       "      <td>F1-190709</td>\n",
       "      <td>Composite of 3 sub areas within the Western Ar...</td>\n",
       "      <td>F1</td>\n",
       "      <td>33.771563</td>\n",
       "      <td>-118.133022</td>\n",
       "      <td>PointCent</td>\n",
       "      <td>07/09/2019</td>\n",
       "      <td>Normal</td>\n",
       "      <td>Top Smelt</td>\n",
       "      <td>whole organism</td>\n",
       "      <td>26.0</td>\n",
       "      <td>Composite</td>\n",
       "      <td>1.0</td>\n",
       "      <td>1.0</td>\n",
       "      <td>Benz(a)anthracene</td>\n",
       "      <td>ug/Kg ww</td>\n",
       "      <td>NaN</td>\n",
       "      <td>570-1214-1</td>\n",
       "      <td>Fish</td>\n",
       "      <td>NaN</td>\n",
       "      <td>10.6</td>\n",
       "      <td>10.6</td>\n",
       "      <td>100.0</td>\n",
       "      <td>Unk (26), M (0), F (0)</td>\n",
       "      <td>89253F43-76CB-495D-9FF9-F0FC81442D12</td>\n",
       "      <td>33.7716</td>\n",
       "      <td>-118.133</td>\n",
       "      <td>F1-190709</td>\n",
       "      <td>26.0</td>\n",
       "      <td>NaN</td>\n",
       "      <td>1.06</td>\n",
       "      <td>-88.0</td>\n",
       "      <td>cm</td>\n",
       "      <td>NaN</td>\n",
       "      <td>Unk</td>\n",
       "      <td>30083058</td>\n",
       "      <td>-88.0</td>\n",
       "      <td>-88.0</td>\n",
       "      <td>01/01/1950</td>\n",
       "      <td>10.6</td>\n",
       "    </tr>\n",
       "  </tbody>\n",
       "</table>\n",
       "</div>"
      ],
      "text/plain": [
       "                                              ProjectName CompositeID   \n",
       "140151  City of Long Beach Colorado Lagoon TMDL Monito...   F1-190709  \\\n",
       "140152  City of Long Beach Colorado Lagoon TMDL Monito...   F1-190709   \n",
       "140153  City of Long Beach Colorado Lagoon TMDL Monito...   F1-190709   \n",
       "140154  City of Long Beach Colorado Lagoon TMDL Monito...   F1-190709   \n",
       "140155  City of Long Beach Colorado Lagoon TMDL Monito...   F1-190709   \n",
       "\n",
       "                                              StationName StationCode   \n",
       "140151  Composite of 3 sub areas within the Western Ar...          F1  \\\n",
       "140152  Composite of 3 sub areas within the Western Ar...          F1   \n",
       "140153  Composite of 3 sub areas within the Western Ar...          F1   \n",
       "140154  Composite of 3 sub areas within the Western Ar...          F1   \n",
       "140155  Composite of 3 sub areas within the Western Ar...          F1   \n",
       "\n",
       "         Latitude   Longitude GeometryShape EarliestDateSampled CompositeType   \n",
       "140151  33.771563 -118.133022     PointCent          07/09/2019        Normal  \\\n",
       "140152  33.771563 -118.133022     PointCent          07/09/2019        Normal   \n",
       "140153  33.771563 -118.133022     PointCent          07/09/2019        Normal   \n",
       "140154  33.771563 -118.133022     PointCent          07/09/2019        Normal   \n",
       "140155  33.771563 -118.133022     PointCent          07/09/2019        Normal   \n",
       "\n",
       "       CommonName      TissueName  NumberFishperComp SampleTypeCode   \n",
       "140151  Top Smelt  whole organism               26.0      Composite  \\\n",
       "140152  Top Smelt  whole organism               26.0      Composite   \n",
       "140153  Top Smelt  whole organism               26.0      Composite   \n",
       "140154  Top Smelt  whole organism               26.0      Composite   \n",
       "140155  Top Smelt  whole organism               26.0      Composite   \n",
       "\n",
       "        CompositeReplicate  ResultReplicate            Analyte      Unit   \n",
       "140151                 1.0              1.0     Acenaphthylene  ug/Kg ww  \\\n",
       "140152                 1.0              1.0     Acenaphthylene  ug/Kg ww   \n",
       "140153                 1.0              1.0         Anthracene  ug/Kg ww   \n",
       "140154                 1.0              1.0         Anthracene  ug/Kg ww   \n",
       "140155                 1.0              1.0  Benz(a)anthracene  ug/Kg ww   \n",
       "\n",
       "        Result LabSampleID OrganismGroup  WeightAvg(g)  TLMax(mm)   \n",
       "140151     NaN  570-1214-1          Fish           NaN       10.6  \\\n",
       "140152     NaN  570-1214-1          Fish           NaN       10.6   \n",
       "140153     NaN  570-1214-1          Fish           NaN       10.6   \n",
       "140154     NaN  570-1214-1          Fish           NaN       10.6   \n",
       "140155     NaN  570-1214-1          Fish           NaN       10.6   \n",
       "\n",
       "        TLAvgLength(mm)  CompSizeCheck              SexSummary   \n",
       "140151             10.6          100.0  Unk (26), M (0), F (0)  \\\n",
       "140152             10.6          100.0  Unk (26), M (0), F (0)   \n",
       "140153             10.6          100.0  Unk (26), M (0), F (0)   \n",
       "140154             10.6          100.0  Unk (26), M (0), F (0)   \n",
       "140155             10.6          100.0  Unk (26), M (0), F (0)   \n",
       "\n",
       "                           TissueResultRowID  CompositeLatitude   \n",
       "140151  E9D9E947-B325-436D-8A1B-FDB1266522DC            33.7716  \\\n",
       "140152  6A88ACD2-5796-4626-9DB5-56E3408DD489            33.7716   \n",
       "140153  AFE34DAC-DA9A-48FB-BC50-499EDED604DA            33.7716   \n",
       "140154  B8B6CB1F-8A74-4BCD-8DC8-DF6BC449A3A2            33.7716   \n",
       "140155  89253F43-76CB-495D-9FF9-F0FC81442D12            33.7716   \n",
       "\n",
       "        CompositeLongitude OrganismID  TotalCount  ForkLength  TotalLength   \n",
       "140151            -118.133  F1-190709        26.0         NaN         1.06  \\\n",
       "140152            -118.133  F1-190709        26.0         NaN         1.06   \n",
       "140153            -118.133  F1-190709        26.0         NaN         1.06   \n",
       "140154            -118.133  F1-190709        26.0         NaN         1.06   \n",
       "140155            -118.133  F1-190709        26.0         NaN         1.06   \n",
       "\n",
       "        OrganismWeight(g) UnitLengthFish  Age  Sex  TissueID  TissueWeight(g)   \n",
       "140151              -88.0             cm  NaN  Unk  30083058            -88.0  \\\n",
       "140152              -88.0             cm  NaN  Unk  30083058            -88.0   \n",
       "140153              -88.0             cm  NaN  Unk  30083058            -88.0   \n",
       "140154              -88.0             cm  NaN  Unk  30083058            -88.0   \n",
       "140155              -88.0             cm  NaN  Unk  30083058            -88.0   \n",
       "\n",
       "        CompositeWeight(g) HomogonizedDate  TLMin(mm)  \n",
       "140151               -88.0      01/01/1950       10.6  \n",
       "140152               -88.0      01/01/1950       10.6  \n",
       "140153               -88.0      01/01/1950       10.6  \n",
       "140154               -88.0      01/01/1950       10.6  \n",
       "140155               -88.0      01/01/1950       10.6  "
      ]
     },
     "execution_count": 28,
     "metadata": {},
     "output_type": "execute_result"
    }
   ],
   "source": [
    "convert_df.loc[:,'TotalLength'] = (convert_df.loc[ :,'TotalLength']/10) # take all of that column values and divide by 10\n",
    "convert_df.head()"
   ]
  },
  {
   "cell_type": "code",
   "execution_count": 29,
   "id": "cfcc1ba1",
   "metadata": {
    "colab": {
     "base_uri": "https://localhost:8080/",
     "height": 241
    },
    "id": "cfcc1ba1",
    "outputId": "8867fd36-e05f-490f-c1b0-5a75f2db2700"
   },
   "outputs": [
    {
     "data": {
      "text/plain": [
       "TotalLength\n",
       "1.00    118\n",
       "1.06    110\n",
       "0.88     69\n",
       "0.95     69\n",
       "Name: count, dtype: int64"
      ]
     },
     "execution_count": 29,
     "metadata": {},
     "output_type": "execute_result"
    }
   ],
   "source": [
    "convert_df['TotalLength'].value_counts() # this checks out to what was showing before the conversion"
   ]
  },
  {
   "cell_type": "markdown",
   "id": "c37cf0dd",
   "metadata": {
    "id": "c37cf0dd"
   },
   "source": [
    "Next, I am converting the UnitLengthFish columns all to \"mm\""
   ]
  },
  {
   "cell_type": "code",
   "execution_count": 30,
   "id": "d1d001fa",
   "metadata": {
    "id": "d1d001fa"
   },
   "outputs": [],
   "source": [
    "convert_df.loc[:,'UnitLengthFish'] = convert_df.loc[ :,'UnitLengthFish'] ='mm' #also changing the cm values in the UnitLengthFish to mm"
   ]
  },
  {
   "cell_type": "code",
   "execution_count": 31,
   "id": "d539c6e7",
   "metadata": {
    "colab": {
     "base_uri": "https://localhost:8080/"
    },
    "id": "d539c6e7",
    "outputId": "0677ef46-a5b7-4b1a-ee93-8421dc0330a9"
   },
   "outputs": [
    {
     "data": {
      "text/plain": [
       "array(['mm'], dtype=object)"
      ]
     },
     "execution_count": 31,
     "metadata": {},
     "output_type": "execute_result"
    }
   ],
   "source": [
    "convert_df['UnitLengthFish'].unique() #check"
   ]
  },
  {
   "cell_type": "markdown",
   "id": "70db043b",
   "metadata": {
    "id": "70db043b"
   },
   "source": [
    "Now making a temp df for all the UnitLengthFish != cm rows to stitch the two back together to update df2"
   ]
  },
  {
   "cell_type": "code",
   "execution_count": 32,
   "id": "fa707a60",
   "metadata": {
    "id": "fa707a60"
   },
   "outputs": [],
   "source": [
    "mm_df = df2[(df2['UnitLengthFish']!='cm')]"
   ]
  },
  {
   "cell_type": "code",
   "execution_count": 33,
   "id": "142f9ef6",
   "metadata": {
    "colab": {
     "base_uri": "https://localhost:8080/"
    },
    "id": "142f9ef6",
    "outputId": "73a9a67b-50ac-4d94-a2bf-764d885f6498"
   },
   "outputs": [
    {
     "data": {
      "text/plain": [
       "(216431, 41)"
      ]
     },
     "execution_count": 33,
     "metadata": {},
     "output_type": "execute_result"
    }
   ],
   "source": [
    "mm_df.shape"
   ]
  },
  {
   "cell_type": "code",
   "execution_count": 34,
   "id": "b3ac7b21",
   "metadata": {
    "colab": {
     "base_uri": "https://localhost:8080/"
    },
    "id": "b3ac7b21",
    "outputId": "d1cc1e77-8098-4292-d566-36757b69799b",
    "scrolled": true
   },
   "outputs": [
    {
     "data": {
      "text/plain": [
       "(366, 41)"
      ]
     },
     "execution_count": 34,
     "metadata": {},
     "output_type": "execute_result"
    }
   ],
   "source": [
    "convert_df.shape"
   ]
  },
  {
   "cell_type": "code",
   "execution_count": 35,
   "id": "e633074a",
   "metadata": {
    "id": "e633074a"
   },
   "outputs": [],
   "source": [
    "df2 = pd.concat([convert_df,mm_df])"
   ]
  },
  {
   "cell_type": "code",
   "execution_count": 36,
   "id": "ac0d0fb0",
   "metadata": {
    "colab": {
     "base_uri": "https://localhost:8080/"
    },
    "id": "ac0d0fb0",
    "outputId": "d4e3294e-cb35-4782-a008-d1024fa23493"
   },
   "outputs": [
    {
     "data": {
      "text/plain": [
       "(216797, 41)"
      ]
     },
     "execution_count": 36,
     "metadata": {},
     "output_type": "execute_result"
    }
   ],
   "source": [
    "df2.shape  # shape is the same as before"
   ]
  },
  {
   "cell_type": "code",
   "execution_count": 37,
   "id": "97e11e36",
   "metadata": {
    "colab": {
     "base_uri": "https://localhost:8080/",
     "height": 147
    },
    "id": "97e11e36",
    "outputId": "ccf09188-8e44-4334-ea2a-ff9ac00440a0"
   },
   "outputs": [
    {
     "data": {
      "text/plain": [
       "UnitLengthFish\n",
       "mm    [1.06, 1.0, 0.8800000000000001, 0.95, 84.0, 75...\n",
       "Name: TotalLength, dtype: object"
      ]
     },
     "execution_count": 37,
     "metadata": {},
     "output_type": "execute_result"
    }
   ],
   "source": [
    "df2.groupby(['UnitLengthFish'])['TotalLength'].unique() # all values are now in mm"
   ]
  },
  {
   "cell_type": "markdown",
   "id": "3a115973",
   "metadata": {
    "id": "3a115973"
   },
   "source": [
    "We can now also update the TotalLength header name and drop UnitLengthFish like we did with others"
   ]
  },
  {
   "cell_type": "code",
   "execution_count": 38,
   "id": "1b6e028d",
   "metadata": {
    "id": "1b6e028d"
   },
   "outputs": [],
   "source": [
    "df2= pd.concat([df2, df2.rename(columns={'TotalLength': 'TotalLength(mm)'}, inplace=True)])\n"
   ]
  },
  {
   "cell_type": "code",
   "execution_count": 39,
   "id": "1ca09ee5",
   "metadata": {
    "id": "1ca09ee5"
   },
   "outputs": [],
   "source": [
    "df2 = df2.drop(columns = ['UnitLengthFish'])"
   ]
  },
  {
   "cell_type": "markdown",
   "id": "81a19992",
   "metadata": {},
   "source": [
    "The last measure unit I need to look into is the \"Unit\" column next to the Results columns. That will tell me if the numberic values under the \"Result\" column has a unified meaning."
   ]
  },
  {
   "cell_type": "code",
   "execution_count": 40,
   "id": "0210aef9",
   "metadata": {
    "id": "0210aef9"
   },
   "outputs": [],
   "source": [
    "#creating temp dataframe to store rows where column result is showing null\n",
    "results_null = df2.loc[df2['Result'].isnull()]"
   ]
  },
  {
   "cell_type": "code",
   "execution_count": 41,
   "id": "36605684",
   "metadata": {
    "colab": {
     "base_uri": "https://localhost:8080/",
     "height": 490
    },
    "id": "36605684",
    "outputId": "60082b5a-1ebd-41aa-c622-ac48373167ab"
   },
   "outputs": [
    {
     "data": {
      "text/plain": [
       "Analyte\n",
       "Selenium              3100\n",
       "PCB 169                934\n",
       "PCB 126                821\n",
       "Aldrin                 810\n",
       "Heptachlor Epoxide     804\n",
       "                      ... \n",
       "PCB 091                  2\n",
       "Age                      2\n",
       "PCB 135/151/154          1\n",
       "PBDE 119                 1\n",
       "PCB 045                  1\n",
       "Name: count, Length: 403, dtype: int64"
      ]
     },
     "execution_count": 41,
     "metadata": {},
     "output_type": "execute_result"
    }
   ],
   "source": [
    "results_null['Analyte'].value_counts()"
   ]
  },
  {
   "cell_type": "markdown",
   "id": "23b8a40f",
   "metadata": {
    "id": "23b8a40f"
   },
   "source": [
    "##### Group Analytes\n",
    "\n",
    "I want to group all different PCBs and PBDEs together in order to reduce the number for features, as well as to unify the unit of measurements under the \"Result\" column.\n",
    "\n",
    "For more information on PCBs: https://www.epa.gov/pcbs/learn-about-polychlorinated-biphenyls#:~:text=PCBs%20are%20a%20group%20of,industrial%20and%20commercial%20applications%20including:\n",
    "\n",
    "For more information on PBDEs https://www.epa.gov/assessing-and-managing-chemicals-under-tsca/polybrominated-diphenyl-ethers-pbdes\n"
   ]
  },
  {
   "cell_type": "code",
   "execution_count": 42,
   "id": "bb3b861b",
   "metadata": {
    "colab": {
     "base_uri": "https://localhost:8080/"
    },
    "id": "bb3b861b",
    "outputId": "c96b8b46-c964-41e1-f576-b55b3d169e0c",
    "scrolled": true
   },
   "outputs": [
    {
     "data": {
      "text/plain": [
       "array(['Acenaphthylene', 'Anthracene', 'Benz(a)anthracene',\n",
       "       'Benzo(a)pyrene', 'Benzo(b)fluoranthene', 'Benzo(g,h,i)perylene',\n",
       "       'Benzo(k)fluoranthene', 'Chlordane, cis-', 'Chlordane, trans-',\n",
       "       'Chrysene', \"DDD(o,p')\", \"DDD(p,p')\", \"DDE(o,p')\", \"DDE(p,p')\",\n",
       "       \"DDT(o,p')\", 'Dibenz(a,h)anthracene', 'Fluorene',\n",
       "       'Indeno(1,2,3-c,d)pyrene', 'Nonachlor, cis-', 'Nonachlor, trans-',\n",
       "       'Oxychlordane', 'PCB 018', 'PCB 028', 'PCB 037', 'PCB 049',\n",
       "       'PCB 052', 'PCB 070', 'PCB 074', 'PCB 077', 'PCB 081', 'PCB 087',\n",
       "       'PCB 099', 'PCB 105', 'PCB 110', 'PCB 114', 'PCB 119', 'PCB 123',\n",
       "       'PCB 126', 'PCB 138/158', 'PCB 149', 'PCB 151', 'PCB 156',\n",
       "       'PCB 157', 'PCB 167', 'PCB 168', 'PCB 169', 'PCB 177', 'PCB 180',\n",
       "       'PCB 183', 'PCB 189', 'PCB 194', 'PCB 206', 'Phenanthrene',\n",
       "       'Pyrene', 'Lipid', 'PCB 101', 'PCB 118', 'PCB 128', 'PCB 170',\n",
       "       'PCB 187', \"DDT(p,p')\", 'Dieldrin', 'HCH, gamma-', 'Heptachlor',\n",
       "       'Heptachlor Epoxide', 'PCB 044', 'PCB 066', 'PCB 132/153',\n",
       "       'PCB 201', 'Arsenic', 'Moisture', 'Selenium', 'Mercury', 'PCB 001',\n",
       "       'PCB 001(Surrogate)', 'PCB 002', 'PCB 003', 'PCB 003(Surrogate)',\n",
       "       'PCB 004', 'PCB 004(Surrogate)', 'PCB 005', 'PCB 006', 'PCB 007',\n",
       "       'PCB 008', 'PCB 009', 'PCB 010', 'PCB 011', 'PCB 012', 'PCB 013',\n",
       "       'PCB 014', 'PCB 015', 'PCB 015(Surrogate)', 'PCB 016', 'PCB 017',\n",
       "       'PCB 019', 'PCB 019(Surrogate)', 'PCB 020', 'PCB 021', 'PCB 022',\n",
       "       'PCB 023', 'PCB 024', 'PCB 025', 'PCB 026', 'PCB 027',\n",
       "       'PCB 028(Surrogate)', 'PCB 029', 'PCB 030', 'PCB 031', 'PCB 032',\n",
       "       'PCB 033', 'PCB 034', 'PCB 035', 'PCB 036', 'PCB 037(Surrogate)',\n",
       "       'PCB 038', 'PCB 039', 'PCB 040', 'PCB 041', 'PCB 042', 'PCB 043',\n",
       "       'PCB 045', 'PCB 046', 'PCB 047', 'PCB 048', 'PCB 050', 'PCB 051',\n",
       "       'PCB 053', 'PCB 054', 'PCB 054(Surrogate)', 'PCB 055', 'PCB 056',\n",
       "       'PCB 057', 'PCB 058', 'PCB 059', 'PCB 060', 'PCB 061', 'PCB 062',\n",
       "       'PCB 063', 'PCB 064', 'PCB 065', 'PCB 067', 'PCB 068', 'PCB 069',\n",
       "       'PCB 071', 'PCB 072', 'PCB 073', 'PCB 075', 'PCB 076',\n",
       "       'PCB 077 (TEQ ND=0)', 'PCB 077 (TEQ ND=1/2 DL)',\n",
       "       'PCB 077 (TEQ ND=DL)', 'PCB 077(Surrogate)', 'PCB 078', 'PCB 079',\n",
       "       'PCB 080', 'PCB 081 (TEQ ND=0)', 'PCB 081 (TEQ ND=1/2 DL)',\n",
       "       'PCB 081 (TEQ ND=DL)', 'PCB 081(Surrogate)', 'PCB 082', 'PCB 083',\n",
       "       'PCB 084', 'PCB 085', 'PCB 086', 'PCB 088', 'PCB 089', 'PCB 090',\n",
       "       'PCB 091', 'PCB 092', 'PCB 093', 'PCB 094', 'PCB 095', 'PCB 096',\n",
       "       'PCB 097', 'PCB 098', 'PCB 100', 'PCB 102', 'PCB 103', 'PCB 104',\n",
       "       'PCB 104(Surrogate)', 'PCB 105 (TEQ ND=0)',\n",
       "       'PCB 105 (TEQ ND=1/2 DL)', 'PCB 105 (TEQ ND=DL)',\n",
       "       'PCB 105(Surrogate)', 'PCB 106', 'PCB 107', 'PCB 109', 'PCB 111',\n",
       "       'PCB 111(Surrogate)', 'PCB 112', 'PCB 113', 'PCB 114 (TEQ ND=0)',\n",
       "       'PCB 114 (TEQ ND=1/2 DL)', 'PCB 114 (TEQ ND=DL)',\n",
       "       'PCB 114(Surrogate)', 'PCB 115', 'PCB 116', 'PCB 117',\n",
       "       'PCB 118 (TEQ ND=0)', 'PCB 118 (TEQ ND=1/2 DL)',\n",
       "       'PCB 118 (TEQ ND=DL)', 'PCB 118(Surrogate)', 'PCB 120', 'PCB 121',\n",
       "       'PCB 122', 'PCB 123 (TEQ ND=0)', 'PCB 123 (TEQ ND=1/2 DL)',\n",
       "       'PCB 123 (TEQ ND=DL)', 'PCB 123(Surrogate)', 'PCB 124', 'PCB 125',\n",
       "       'PCB 126 (TEQ ND=0)', 'PCB 126 (TEQ ND=1/2 DL)',\n",
       "       'PCB 126 (TEQ ND=DL)', 'PCB 126(Surrogate)', 'PCB 127', 'PCB 129',\n",
       "       'PCB 130', 'PCB 131', 'PCB 132', 'PCB 133', 'PCB 134', 'PCB 135',\n",
       "       'PCB 136', 'PCB 137', 'PCB 138', 'PCB 139', 'PCB 140', 'PCB 141',\n",
       "       'PCB 142', 'PCB 143', 'PCB 144', 'PCB 145', 'PCB 146', 'PCB 147',\n",
       "       'PCB 148', 'PCB 150', 'PCB 152', 'PCB 153', 'PCB 154', 'PCB 155',\n",
       "       'PCB 155(Surrogate)', 'PCB 156 (TEQ ND=0)',\n",
       "       'PCB 156 (TEQ ND=1/2 DL)', 'PCB 156 (TEQ ND=DL)',\n",
       "       'PCB 156(Surrogate)', 'PCB 157 (TEQ ND=0)',\n",
       "       'PCB 157 (TEQ ND=1/2 DL)', 'PCB 157 (TEQ ND=DL)',\n",
       "       'PCB 157(Surrogate)', 'PCB 158', 'PCB 159', 'PCB 160', 'PCB 161',\n",
       "       'PCB 162', 'PCB 163', 'PCB 164', 'PCB 165', 'PCB 166',\n",
       "       'PCB 167 (TEQ ND=0)', 'PCB 167 (TEQ ND=1/2 DL)',\n",
       "       'PCB 167 (TEQ ND=DL)', 'PCB 167(Surrogate)', 'PCB 169 (TEQ ND=0)',\n",
       "       'PCB 169 (TEQ ND=1/2 DL)', 'PCB 169 (TEQ ND=DL)',\n",
       "       'PCB 169(Surrogate)', 'PCB 170(Surrogate)', 'PCB 171', 'PCB 172',\n",
       "       'PCB 173', 'PCB 174', 'PCB 175', 'PCB 176', 'PCB 178',\n",
       "       'PCB 178(Surrogate)', 'PCB 179', 'PCB 180(Surrogate)', 'PCB 181',\n",
       "       'PCB 182', 'PCB 184', 'PCB 185', 'PCB 186', 'PCB 188',\n",
       "       'PCB 188(Surrogate)', 'PCB 189 (TEQ ND=0)',\n",
       "       'PCB 189 (TEQ ND=1/2 DL)', 'PCB 189 (TEQ ND=DL)',\n",
       "       'PCB 189(Surrogate)', 'PCB 190', 'PCB 191', 'PCB 192', 'PCB 193',\n",
       "       'PCB 195', 'PCB 196', 'PCB 197', 'PCB 198', 'PCB 199', 'PCB 200',\n",
       "       'PCB 202', 'PCB 202(Surrogate)', 'PCB 203', 'PCB 204', 'PCB 205',\n",
       "       'PCB 205(Surrogate)', 'PCB 206(Surrogate)', 'PCB 207', 'PCB 208',\n",
       "       'PCB 208(Surrogate)', 'PCB 209', 'PCB 209(Surrogate)',\n",
       "       'PCB TOTAL (TEQ ND=0)', 'PCB TOTAL (TEQ ND=1/2 DL)',\n",
       "       'PCB TOTAL (TEQ ND=DL)', 'Total Dichlorobiphenyls',\n",
       "       'Total Heptachlorobiphenyls', 'Total Hexachlorobiphenyls',\n",
       "       'Total Monochlorobiphenyls', 'Total Nonachlorobiphenyls',\n",
       "       'Total Octachlorobiphenyls', 'Total PCBs',\n",
       "       'Total Pentachlorobiphenyls', 'Total Tetrachlorobiphenyls',\n",
       "       'Total Trichlorobiphenyls', 'Age', 'PBDE 028/33',\n",
       "       'PBDE 028-13C12(IsoDilAnalogue)', 'PBDE 047',\n",
       "       'PBDE 047-13C12(IsoDilAnalogue)', 'PBDE 099',\n",
       "       'PBDE 099-13C12(IsoDilAnalogue)', 'PBDE 100',\n",
       "       'PBDE 100-13C12(IsoDilAnalogue)', 'PBDE 153',\n",
       "       'PBDE 153-13C12(IsoDilAnalogue)', 'PBDE 154',\n",
       "       'PBDE 154-13C12(IsoDilAnalogue)', 'PBDE 183',\n",
       "       'PBDE 183-13C12(IsoDilAnalogue)', 'PBDE 209',\n",
       "       'PBDE 209-13C12(IsoDilAnalogue)',\n",
       "       'Chloroeicosafluoro-3-Oxaundecane-1-Sulfonic Acid, 11-',\n",
       "       'Chlorohexadecafluoro-3-Oxanonane-1-Sulfonic Acid, 9-',\n",
       "       'Dioxa-3H-Perfluorononanoate Acid, 4,8-',\n",
       "       'Ethyl Perfluorooctane Sulfonamido Acetic Acid, N-',\n",
       "       'Ethyl Perfluorooctane Sulfonamido Acetic Acid-d5, N-(IsoDilAnalogue)',\n",
       "       'Ethyl-perfluorooctanesulfonamide, N-',\n",
       "       'Ethyl-perfluorooctanesulfonamide-d5, N-(IsoDilAnalogue)',\n",
       "       'Ethyl-perfluorooctanesulfonamidoethanol, N-',\n",
       "       'Ethyl-perfluorooctanesulfonamidoethanol-d9, N-(IsoDilAnalogue)',\n",
       "       'Fluorotelomer Carboxylic Acid, 3:3-',\n",
       "       'Fluorotelomer Carboxylic Acid, 5:3-',\n",
       "       'Fluorotelomer Carboxylic Acid, 7:3-',\n",
       "       'Fluorotelomer Sulfonate, 4:2-', 'Fluorotelomer Sulfonate, 6:2-',\n",
       "       'Fluorotelomer Sulfonate, 8:2-',\n",
       "       'Fluorotelomer Sulfonate-13C2, 4:2-(IsoDilAnalogue)',\n",
       "       'Fluorotelomer Sulfonate-13C2, 6:2-(IsoDilAnalogue)',\n",
       "       'Fluorotelomer Sulfonate-13C2, 8:2-(IsoDilAnalogue)',\n",
       "       'Methyl Perfluorooctane Sulfonamido Acetic Acid, N-',\n",
       "       'Methyl Perfluorooctane Sulfonamido Acetic Acid-d3, N-(IsoDilAnalogue)',\n",
       "       'Methyl-perfluorooctanesulfonamide, N-',\n",
       "       'Methyl-perfluorooctanesulfonamide-d3, N-(IsoDilAnalogue)',\n",
       "       'Methyl-perfluorooctanesulfonamidoethanol-d7, N-(IsoDilAnalogue)',\n",
       "       'Perfluoro(2-ethoxyethane)sulfonic Acid',\n",
       "       'Perfluoro-2-Propoxypropanoic Acid',\n",
       "       'Perfluoro-2-Propoxypropanoic Acid-13C3(IsoDilAnalogue)',\n",
       "       'Perfluoro-3,6-dioxaheptanoate', 'Perfluoro-3-methoxypropanoate',\n",
       "       'Perfluoro-4-methoxybutanoate', 'Perfluorobutanesulfonate',\n",
       "       'Perfluorobutanesulfonate-13C3(IsoDilAnalogue)',\n",
       "       'Perfluorobutanoate', 'Perfluorobutanoate-13C4(IsoDilAnalogue)',\n",
       "       'Perfluorodecanesulfonate', 'Perfluorodecanoate',\n",
       "       'Perfluorodecanoate-13C6(IsoDilAnalogue)',\n",
       "       'Perfluorododecanesulfonate', 'Perfluorododecanoate',\n",
       "       'Perfluorododecanoate-13C2(IsoDilAnalogue)',\n",
       "       'Perfluoroheptanesulfonate', 'Perfluoroheptanoate',\n",
       "       'Perfluoroheptanoate-13C4(IsoDilAnalogue)',\n",
       "       'Perfluorohexanesulfonate',\n",
       "       'Perfluorohexanesulfonate-13C3(IsoDilAnalogue)',\n",
       "       'Perfluorohexanoate', 'Perfluorohexanoate-13C5(IsoDilAnalogue)',\n",
       "       'Perfluorononanoate', 'Perfluorononanesulfonate',\n",
       "       'Perfluorononanoate-13C9(IsoDilAnalogue)',\n",
       "       'Perfluorooctanesulfonamide',\n",
       "       'Perfluorooctanesulfonamide-13C8(IsoDilAnalogue)',\n",
       "       'Perfluorooctanesulfonate',\n",
       "       'Perfluorooctanesulfonate-13C8(IsoDilAnalogue)',\n",
       "       'Perfluorooctanoate', 'Perfluorooctanoate-13C8(IsoDilAnalogue)',\n",
       "       'Perfluoropentanoate', 'Perfluoropentanesulfonate',\n",
       "       'Perfluoropentanoate-13C5(IsoDilAnalogue)',\n",
       "       'Perfluorotetradecanoate',\n",
       "       'Perfluorotetradecanoate-13C2(IsoDilAnalogue)',\n",
       "       'Perfluorotridecanoate', 'Perfluoroundecanoate',\n",
       "       'Perfluoroundecanoate-13C7(IsoDilAnalogue)', 'Total Solids',\n",
       "       'Aldrin', 'Aldrin-13C12(IsoDilAnalogue)',\n",
       "       'Chlordane-13C10, trans-(IsoDilAnalogue)',\n",
       "       \"DDD-13C12(p,p')(IsoDilAnalogue)\",\n",
       "       \"DDE-13C12(o,p')(IsoDilAnalogue)\",\n",
       "       \"DDE-13C12(p,p')(IsoDilAnalogue)\",\n",
       "       \"DDT-13C12(o,p')(IsoDilAnalogue)\",\n",
       "       \"DDT-13C12(p,p')(IsoDilAnalogue)\", 'HCH, alpha-', 'HCH, beta-',\n",
       "       'HCH-13C6, beta-(IsoDilAnalogues)',\n",
       "       'HCH-13C6, gamma-(IsoDilAnalogue)',\n",
       "       'Heptachlor-13C10(IsoDilAnalogue)', 'Hexachlorobenzene',\n",
       "       'Hexachlorobenzene-13C6(IsoDilAnalogue)', 'Mirex',\n",
       "       'Mirex-13C10(IsoDilAnalogue)',\n",
       "       'Nonachlor-13C10, cis-(IsoDilAnalogue)',\n",
       "       'Nonachlor-13C10, trans-(IsoDilAnalogue)',\n",
       "       'Oxychlordane-13C10(IsoDilAnalogue)',\n",
       "       'Dieldrin-13C12(IsoDilAnalogue)', 'Endosulfan I', 'Endosulfan II',\n",
       "       'Endosulfan I-13C9(IsoDilAnalogue)',\n",
       "       'Endosulfan II-13C9(IsoDilAnalogue)', 'Endosulfan Sulfate',\n",
       "       'Endrin', 'Endrin Aldehyde',\n",
       "       'Endrin Aldehyde-13C12(IsoDilAnalogue)', 'Endrin Ketone',\n",
       "       'Endrin-13C12(IsoDilAnalogue)', 'HCH, delta-',\n",
       "       'HCH-13C6, delta-(IsoDilAnalogue)',\n",
       "       'Heptachlor Epoxide-13C10(IsoDilAnalogue)', 'Methoxychlor',\n",
       "       'Methoxychlor-13C12(IsoDilAnalogue)',\n",
       "       'PCB 159-13C12(IsoDilAnalogue)', 'Toxaphene',\n",
       "       'PCB 001-13C12(IsoDilAnalogue)', 'PCB 003-13C12(IsoDilAnalogue)',\n",
       "       'PCB 004-13C12(IsoDilAnalogue)', 'PCB 012/13',\n",
       "       'PCB 015-13C12(IsoDilAnalogue)', 'PCB 018/30',\n",
       "       'PCB 019-13C12(IsoDilAnalogue)', 'PCB 020/28', 'PCB 021/33',\n",
       "       'PCB 026/29', 'PCB 028-13C12(IsoDilAnalogue)',\n",
       "       'PCB 037-13C12(IsoDilAnalogue)', 'PCB 040/41/71', 'PCB 044/47/65',\n",
       "       'PCB 045/51', 'PCB 049/69', 'PCB 050/53',\n",
       "       'PCB 054-13C12(IsoDilAnalogue)', 'PCB 059/62/75',\n",
       "       'PCB 061/70/74/76', 'PCB 077-13C12(IsoDilAnalogue)',\n",
       "       'PCB 081-13C12(IsoDilAnalogue)', 'PCB 083/99', 'PCB 085/116/117',\n",
       "       'PCB 086/87/97/108/119/125', 'PCB 088/91', 'PCB 090/101/113',\n",
       "       'PCB 093/95/98/100/102', 'PCB 104-13C12(IsoDilAnalogue)',\n",
       "       'PCB 105-13C12(IsoDilAnalogue)', 'PCB 107/124', 'PCB 110/115',\n",
       "       'PCB 111-13C12(IsoDilAnalogue)', 'PCB 114-13C12(IsoDilAnalogue)',\n",
       "       'PCB 118-13C12(IsoDilAnalogue)', 'PCB 123-13C12(IsoDilAnalogue)',\n",
       "       'PCB 126-13C12(IsoDilAnalogue)', 'PCB 128/166',\n",
       "       'PCB 129/138/160/163', 'PCB 134/143', 'PCB 135/151/154',\n",
       "       'PCB 139/140', 'PCB 147/149', 'PCB 153/168',\n",
       "       'PCB 155-13C12(IsoDilAnalogue)', 'PCB 156/157',\n",
       "       'PCB 156-13C12/157-13C12(IsoDilAnalogue)',\n",
       "       'PCB 167-13C12(IsoDilAnalogue)', 'PCB 169-13C12(IsoDilAnalogue)',\n",
       "       'PCB 170-13C12(IsoDilAnalogue)', 'PCB 171/173',\n",
       "       'PCB 178-13C12(IsoDilAnalogue)', 'PCB 180/193',\n",
       "       'PCB 180-13C12(IsoDilAnalogue)', 'PCB 183/185',\n",
       "       'PCB 188-13C12(IsoDilAnalogue)', 'PCB 189-13C12(IsoDilAnalogue)',\n",
       "       'PCB 197/200', 'PCB 198/199', 'PCB 202-13C12(IsoDilAnalogue)',\n",
       "       'PCB 205-13C12(IsoDilAnalogue)', 'PCB 206-13C12(IsoDilAnalogue)',\n",
       "       'PCB 208-13C12(IsoDilAnalogue)', 'PCB 209-13C12(IsoDilAnalogue)',\n",
       "       'Mercury, Methyl', 'PCB 108', 'Aldrin(Surrogate)',\n",
       "       'Chlordane, trans-(Surrogate)', 'Dacthal', \"DDD(p,p')(Surrogate)\",\n",
       "       \"DDE(o,p')(Surrogate)\", \"DDE(p,p')(Surrogate)\",\n",
       "       \"DDT(o,p')(Surrogate)\", \"DDT(p,p')(Surrogate)\",\n",
       "       'Dieldrin(Surrogate)', 'Endosulfan I(Surrogate)',\n",
       "       'Endosulfan II(Surrogate)', 'Endrin(Surrogate)',\n",
       "       'HCH, beta-(Surrogate)', 'HCH, delta-(Surrogate)',\n",
       "       'HCH, gamma-(Surrogate)', 'Heptachlor Epoxide(Surrogate)',\n",
       "       'Heptachlor(Surrogate)', 'Hexachlorobenzene(Surrogate)',\n",
       "       'Hexachlorobutadiene', 'Mirex(Surrogate)',\n",
       "       'Nonachlor, cis-(Surrogate)', 'Nonachlor, trans-(Surrogate)',\n",
       "       'Oxadiazon', 'Oxychlordane(Surrogate)',\n",
       "       'Trichlorobenzene, 1,2,3-(Surrogate)', 'PBDE 007', 'PBDE 008',\n",
       "       'PBDE 010', 'PBDE 011', 'PBDE 012', 'PBDE 013', 'PBDE 015',\n",
       "       'PBDE 015(Surrogate)', 'PBDE 017', 'PBDE 025', 'PBDE 028',\n",
       "       'PBDE 028(Surrogate)', 'PBDE 030', 'PBDE 032', 'PBDE 033',\n",
       "       'PBDE 035', 'PBDE 037', 'PBDE 047(Surrogate)', 'PBDE 049',\n",
       "       'PBDE 051', 'PBDE 066', 'PBDE 071', 'PBDE 075', 'PBDE 077',\n",
       "       'PBDE 077(Surrogate)', 'PBDE 079', 'PBDE 085',\n",
       "       'PBDE 099(Surrogate)', 'PBDE 100(Surrogate)', 'PBDE 105',\n",
       "       'PBDE 116', 'PBDE 119', 'PBDE 120', 'PBDE 126',\n",
       "       'PBDE 126(Surrogate)', 'PBDE 128', 'PBDE 138',\n",
       "       'PBDE 139(Surrogate)', 'PBDE 140', 'PBDE 153(Surrogate)',\n",
       "       'PBDE 154(Surrogate)', 'PBDE 155', 'PBDE 166', 'PBDE 181',\n",
       "       'PBDE 183(Surrogate)', 'PBDE 190', 'PBDE 197(Surrogate)',\n",
       "       'PBDE 203', 'PBDE 206', 'PBDE 207', 'PBDE 208',\n",
       "       'PBDE 209(Surrogate)', 'PBDE 139-13C12(IsoDilAnalogue)',\n",
       "       'Methyl-perfluorooctanesulfonamidoethanol, N-', \"DDMU(p,p')\",\n",
       "       'Terphenyl-d14(Surrogate)', 'Chlorpyrifos', 'Chlorpyrifos Methyl',\n",
       "       'Diazinon', 'Dichlofenthion', 'Ethion', 'Ethoprop', 'Fenchlorphos',\n",
       "       'Fenitrothion', 'Fluorobiphenyl, 2-(Surrogate)', 'Fonofos',\n",
       "       'Malathion', 'Nitrobenzene-d5(Surrogate)', 'Parathion, Ethyl',\n",
       "       'Parathion, Methyl', 'Sulfotep', 'Thionazin', 'Tokuthion',\n",
       "       'Trichloronate', 'PCB 005/8',\n",
       "       \"Difluoro-2,2',3,4,4'-Pentabromodiphenyl Ether, 5,6-(Surrogate)\",\n",
       "       \"Fluoro-2,3',6-Tribromodiphenyl Ether, 4'-(Surrogate)\", 'PBDE 179',\n",
       "       'PBDE 184', 'PBDE 188', 'PBDE 200', 'PBDE 201', 'PBDE 202',\n",
       "       'PCB 030(Surrogate)', 'PCB 056/60', 'PCB 112(Surrogate)',\n",
       "       'PCB 198(Surrogate)', 'PCB AROCLOR 1248', 'PCB AROCLOR 1254',\n",
       "       'PCB AROCLOR 1260', 'Tetrachloro-m-xylene(Surrogate)', 'Cadmium',\n",
       "       'Aluminum', 'Chromium', 'Copper', 'Lead', 'Manganese', 'Nickel',\n",
       "       'Silver', 'Zinc', 'Dicofol', 'Acenaphthene', 'Carbazole',\n",
       "       'Fluoranthene', 'PCB AROCLOR 1016', 'PCB AROCLOR 1221',\n",
       "       'PCB AROCLOR 1232', 'PCB AROCLOR 1242', 'Naphthalene', 'Perthane'],\n",
       "      dtype=object)"
      ]
     },
     "execution_count": 42,
     "metadata": {},
     "output_type": "execute_result"
    }
   ],
   "source": [
    "df2['Analyte'].unique()"
   ]
  },
  {
   "cell_type": "code",
   "execution_count": 43,
   "id": "55c377e9",
   "metadata": {
    "colab": {
     "base_uri": "https://localhost:8080/",
     "height": 490
    },
    "id": "55c377e9",
    "outputId": "075702db-bdda-4127-fec0-ef34c1e5ad88"
   },
   "outputs": [
    {
     "data": {
      "text/plain": [
       "Analyte\n",
       "PCB                         109821\n",
       "Moisture                     19663\n",
       "Mercury                      10732\n",
       "Selenium                      8719\n",
       "Terphenyl-d14(Surrogate)      2649\n",
       "                             ...  \n",
       "PBDE 181                         7\n",
       "PBDE 166                         7\n",
       "PBDE 015(Surrogate)              7\n",
       "PBDE 154(Surrogate)              7\n",
       "Mirex(Surrogate)                 7\n",
       "Name: count, Length: 285, dtype: int64"
      ]
     },
     "execution_count": 43,
     "metadata": {},
     "output_type": "execute_result"
    }
   ],
   "source": [
    "mask = df2['Analyte'].str.contains('PCB')\n",
    "df2.loc[mask, 'Analyte'] = 'PCB'\n",
    "df2['Analyte'].value_counts()"
   ]
  },
  {
   "cell_type": "code",
   "execution_count": 44,
   "id": "43950e2a",
   "metadata": {
    "colab": {
     "base_uri": "https://localhost:8080/",
     "height": 490
    },
    "id": "43950e2a",
    "outputId": "d3516180-e311-4a3b-8a9c-a3e9e51a531a"
   },
   "outputs": [
    {
     "data": {
      "text/plain": [
       "Analyte\n",
       "PCB                             109821\n",
       "Moisture                         19663\n",
       "PBDE                             18619\n",
       "Mercury                          10732\n",
       "Selenium                          8719\n",
       "                                 ...  \n",
       "DDT(p,p')(Surrogate)                 7\n",
       "DDT(o,p')(Surrogate)                 7\n",
       "DDE(p,p')(Surrogate)                 7\n",
       "DDE(o,p')(Surrogate)                 7\n",
       "Chlordane, trans-(Surrogate)         7\n",
       "Name: count, Length: 211, dtype: int64"
      ]
     },
     "execution_count": 44,
     "metadata": {},
     "output_type": "execute_result"
    }
   ],
   "source": [
    "mask2 = df2['Analyte'].str.contains('PBDE')\n",
    "df2.loc[mask2, 'Analyte'] = 'PBDE'\n",
    "df2['Analyte'].value_counts()"
   ]
  },
  {
   "cell_type": "code",
   "execution_count": 45,
   "id": "4c6df464",
   "metadata": {
    "colab": {
     "base_uri": "https://localhost:8080/",
     "height": 335
    },
    "id": "4c6df464",
    "outputId": "e65acfb4-a3b1-493b-cd6d-1ae43c725934",
    "scrolled": false
   },
   "outputs": [
    {
     "data": {
      "text/plain": [
       "Analyte\n",
       "PCB                109821\n",
       "Other               48412\n",
       "Moisture            19663\n",
       "PBDE                18619\n",
       "Mercury             10732\n",
       "Selenium             8719\n",
       "Mercury, Methyl       831\n",
       "Name: count, dtype: int64"
      ]
     },
     "execution_count": 45,
     "metadata": {},
     "output_type": "execute_result"
    }
   ],
   "source": [
    "Other = ~df2['Analyte'].str.contains('PCB|PBDE|Mercury|Moisture|Selenium')\n",
    "df2.loc[Other, 'Analyte'] = 'Other'\n",
    "df2['Analyte'].value_counts()\n",
    "# There is no meaningful way to group the rest of these analytes since each of them has such a small sample size (>100)"
   ]
  },
  {
   "cell_type": "code",
   "execution_count": 46,
   "id": "e6ae76e3",
   "metadata": {
    "colab": {
     "base_uri": "https://localhost:8080/",
     "height": 472
    },
    "id": "e6ae76e3",
    "outputId": "8eb0bbf1-0444-430c-de92-f0d0ba4ec5ae"
   },
   "outputs": [
    {
     "data": {
      "image/png": "[encoded data removed]",
      "text/plain": [
       "<Figure size 640x480 with 1 Axes>"
      ]
     },
     "metadata": {},
     "output_type": "display_data"
    }
   ],
   "source": [
    "import matplotlib.pyplot as plt\n",
    "\n",
    "value_counts = df2['Analyte'].value_counts()\n",
    "\n",
    "plt.barh(value_counts.index, value_counts.values)\n",
    "plt.xlabel('Analyte')\n",
    "plt.ylabel('Count of Results')\n",
    "plt.title('Analyte Value Counts Bar Graph')\n",
    "plt.show()"
   ]
  },
  {
   "cell_type": "markdown",
   "id": "06bef136",
   "metadata": {},
   "source": [
    "##### Looking a nulls with in Result since we are here"
   ]
  },
  {
   "cell_type": "code",
   "execution_count": 47,
   "id": "76647117",
   "metadata": {
    "id": "76647117",
    "scrolled": true
   },
   "outputs": [
    {
     "data": {
      "text/plain": [
       "Analyte\n",
       "PCB                0.598237\n",
       "Other              0.264795\n",
       "PBDE               0.102316\n",
       "Selenium           0.033854\n",
       "Moisture           0.000382\n",
       "Mercury            0.000349\n",
       "Mercury, Methyl    0.000066\n",
       "Name: proportion, dtype: float64"
      ]
     },
     "execution_count": 47,
     "metadata": {},
     "output_type": "execute_result"
    }
   ],
   "source": [
    "results_null2 = df2.loc[df2['Result'].isnull()]\n",
    "results_null2['Analyte'].value_counts(normalize= True)"
   ]
  },
  {
   "cell_type": "markdown",
   "id": "87364e7e",
   "metadata": {
    "id": "87364e7e"
   },
   "source": [
    "I am a little concerned about how many unique instances of PCB observed. I have no idea if it is reality that's being presented , or if something is skewing the data class. This is where the EDA about regarding the duplicate rows could answer. Also, as shown below, 50% of the PCB values are null. With what we have mentioned before, since null values could mean no records or not measured, I am going to set all nulls to 0."
   ]
  },
  {
   "cell_type": "code",
   "execution_count": 48,
   "id": "4220979d",
   "metadata": {
    "id": "4220979d"
   },
   "outputs": [],
   "source": [
    "df2['Result'] = df2['Result'].fillna(value=0)"
   ]
  },
  {
   "cell_type": "markdown",
   "id": "e0d88f7c",
   "metadata": {
    "id": "e0d88f7c"
   },
   "source": [
    "Since I am only concerned about measuring PCB, PBDE, and Mercury, I am going to drop all the rows of all other analytes"
   ]
  },
  {
   "cell_type": "code",
   "execution_count": 49,
   "id": "2ec10cf5",
   "metadata": {
    "id": "2ec10cf5"
   },
   "outputs": [
    {
     "data": {
      "text/plain": [
       "Analyte\n",
       "PCB        109821\n",
       "PBDE        18619\n",
       "Mercury     10732\n",
       "Name: count, dtype: int64"
      ]
     },
     "execution_count": 49,
     "metadata": {},
     "output_type": "execute_result"
    }
   ],
   "source": [
    "df2.drop(df2[df2['Analyte'].str.contains('Other|Moisture|Selenium|Methyl')].index,inplace=True)\n",
    "df2['Analyte'].value_counts()"
   ]
  },
  {
   "cell_type": "code",
   "execution_count": 50,
   "id": "99f90e18",
   "metadata": {
    "colab": {
     "base_uri": "https://localhost:8080/",
     "height": 210
    },
    "id": "99f90e18",
    "outputId": "ca424d41-db62-498e-83b1-6c77502ade5a"
   },
   "outputs": [
    {
     "data": {
      "text/plain": [
       "Analyte\n",
       "PCB        109821\n",
       "PBDE        18619\n",
       "Mercury     10732\n",
       "Name: count, dtype: int64"
      ]
     },
     "execution_count": 50,
     "metadata": {},
     "output_type": "execute_result"
    }
   ],
   "source": [
    "df2['Analyte'].value_counts()"
   ]
  },
  {
   "cell_type": "code",
   "execution_count": 51,
   "id": "21c7c2be",
   "metadata": {
    "colab": {
     "base_uri": "https://localhost:8080/"
    },
    "id": "21c7c2be",
    "outputId": "00765a75-860d-44cc-b966-9e55a47fea44"
   },
   "outputs": [
    {
     "data": {
      "text/plain": [
       "(139172, 40)"
      ]
     },
     "execution_count": 51,
     "metadata": {},
     "output_type": "execute_result"
    }
   ],
   "source": [
    "df2.shape"
   ]
  },
  {
   "cell_type": "markdown",
   "id": "290ace62",
   "metadata": {},
   "source": [
    "##### Transform Result Columns to Each Analyte Result Columns"
   ]
  },
  {
   "cell_type": "code",
   "execution_count": 52,
   "id": "348fa270",
   "metadata": {
    "colab": {
     "base_uri": "https://localhost:8080/",
     "height": 681
    },
    "id": "348fa270",
    "outputId": "11bfa3b1-0d96-417b-f68d-68dbe14726b5"
   },
   "outputs": [
    {
     "name": "stderr",
     "output_type": "stream",
     "text": [
      "/var/folders/rr/4wp1syc10818wgtwwcq7_nvw0000gn/T/ipykernel_76433/1516743066.py:2: SettingWithCopyWarning: \n",
      "A value is trying to be set on a copy of a slice from a DataFrame.\n",
      "Try using .loc[row_indexer,col_indexer] = value instead\n",
      "\n",
      "See the caveats in the documentation: https://pandas.pydata.org/pandas-docs/stable/user_guide/indexing.html#returning-a-view-versus-a-copy\n",
      "  PCB.loc[:,'PCBResult']= PCB.loc[:,'Result']\n"
     ]
    },
    {
     "data": {
      "text/plain": [
       "True"
      ]
     },
     "execution_count": 52,
     "metadata": {},
     "output_type": "execute_result"
    }
   ],
   "source": [
    "PCB = df2[df2['Analyte'] == 'PCB'] \n",
    "PCB.loc[:,'PCBResult']= PCB.loc[:,'Result']\n",
    "PCB['Result'].sum()==PCB['PCBResult'].sum()"
   ]
  },
  {
   "cell_type": "code",
   "execution_count": 53,
   "id": "475fb3b1",
   "metadata": {
    "colab": {
     "base_uri": "https://localhost:8080/",
     "height": 681
    },
    "id": "475fb3b1",
    "outputId": "f3c5e50b-4d4f-4385-e479-cd00044cafd0"
   },
   "outputs": [
    {
     "name": "stderr",
     "output_type": "stream",
     "text": [
      "/var/folders/rr/4wp1syc10818wgtwwcq7_nvw0000gn/T/ipykernel_76433/2655076624.py:2: SettingWithCopyWarning: \n",
      "A value is trying to be set on a copy of a slice from a DataFrame.\n",
      "Try using .loc[row_indexer,col_indexer] = value instead\n",
      "\n",
      "See the caveats in the documentation: https://pandas.pydata.org/pandas-docs/stable/user_guide/indexing.html#returning-a-view-versus-a-copy\n",
      "  PBDE.loc[:,'PBDEResult']= PBDE.loc[:,'Result']\n"
     ]
    },
    {
     "data": {
      "text/plain": [
       "True"
      ]
     },
     "execution_count": 53,
     "metadata": {},
     "output_type": "execute_result"
    }
   ],
   "source": [
    "PBDE = df2[df2['Analyte'] == 'PBDE'] \n",
    "PBDE.loc[:,'PBDEResult']= PBDE.loc[:,'Result']\n",
    "PBDE['Result'].sum()==PBDE['PBDEResult'].sum()"
   ]
  },
  {
   "cell_type": "code",
   "execution_count": 54,
   "id": "165429ef",
   "metadata": {
    "colab": {
     "base_uri": "https://localhost:8080/",
     "height": 681
    },
    "id": "165429ef",
    "outputId": "bc49b8ce-217b-45c3-aab6-e2404eb043b2"
   },
   "outputs": [
    {
     "name": "stderr",
     "output_type": "stream",
     "text": [
      "/var/folders/rr/4wp1syc10818wgtwwcq7_nvw0000gn/T/ipykernel_76433/151172494.py:2: SettingWithCopyWarning: \n",
      "A value is trying to be set on a copy of a slice from a DataFrame.\n",
      "Try using .loc[row_indexer,col_indexer] = value instead\n",
      "\n",
      "See the caveats in the documentation: https://pandas.pydata.org/pandas-docs/stable/user_guide/indexing.html#returning-a-view-versus-a-copy\n",
      "  Mercury.loc[:,'MercuryResult']= Mercury.loc[:,'Result']\n"
     ]
    },
    {
     "data": {
      "text/plain": [
       "True"
      ]
     },
     "execution_count": 54,
     "metadata": {},
     "output_type": "execute_result"
    }
   ],
   "source": [
    "Mercury = df2[df2['Analyte'] == 'Mercury'] \n",
    "Mercury.loc[:,'MercuryResult']= Mercury.loc[:,'Result']\n",
    "Mercury['Result'].sum()==Mercury['MercuryResult'].sum()"
   ]
  },
  {
   "cell_type": "code",
   "execution_count": 55,
   "id": "94c55d3e",
   "metadata": {
    "colab": {
     "base_uri": "https://localhost:8080/"
    },
    "id": "94c55d3e",
    "outputId": "f6f0f4ff-4ca2-4b8e-e563-4d703dc93ec0"
   },
   "outputs": [
    {
     "data": {
      "text/plain": [
       "(139172, 43)"
      ]
     },
     "execution_count": 55,
     "metadata": {},
     "output_type": "execute_result"
    }
   ],
   "source": [
    "df2 = pd.concat([PCB,Mercury,PBDE])\n",
    "df2.shape"
   ]
  },
  {
   "cell_type": "code",
   "execution_count": 56,
   "id": "_-gQGNY4nTZ4",
   "metadata": {
    "colab": {
     "base_uri": "https://localhost:8080/",
     "height": 398
    },
    "id": "_-gQGNY4nTZ4",
    "outputId": "64ae7772-e8eb-4bf6-f452-391f63f65776",
    "scrolled": true
   },
   "outputs": [
    {
     "data": {
      "text/plain": [
       "Analyte  Unit      \n",
       "Mercury  ug/g ww       10409\n",
       "         ug/g dw         309\n",
       "         ng/g dw           7\n",
       "         ng/g ww           7\n",
       "PBDE     ng/g ww       11196\n",
       "         % recovery     3661\n",
       "         ng/g dw        3440\n",
       "         pg/g dw         322\n",
       "PCB      ug/Kg ww      54249\n",
       "         ng/g ww       41267\n",
       "         % recovery    11074\n",
       "         ug/Kg dw       3231\n",
       "Name: count, dtype: int64"
      ]
     },
     "execution_count": 56,
     "metadata": {},
     "output_type": "execute_result"
    }
   ],
   "source": [
    "df2.groupby('Analyte')['Unit'].value_counts()"
   ]
  },
  {
   "cell_type": "code",
   "execution_count": 57,
   "id": "l36KSg6Hvk6N",
   "metadata": {
    "id": "l36KSg6Hvk6N"
   },
   "outputs": [],
   "source": [
    "#dw means dry weight... the rest of the measurement units are in wet weight, there is no variables here to help convert dry weight to wet weight, best to drop samples\n",
    "#Surrogate recovery results use a unit of \"%\". Toxicity test results are recorded as percent that survived (\"%\").Surrogate recovery is the amount of a pure compound or element that is extracted and measured after being added to a test material as a spike\n",
    "df2.drop(df2[df2['Unit']== '% recovery'].index,inplace=True)\n",
    "df2.drop(df2[df2['Unit']== 'ng/g dw'].index,inplace=True)\n",
    "df2.drop(df2[df2['Unit']== 'ug/Kg dw'].index,inplace=True)"
   ]
  },
  {
   "cell_type": "code",
   "execution_count": 58,
   "id": "CNsZMjh6vlmo",
   "metadata": {
    "colab": {
     "base_uri": "https://localhost:8080/",
     "height": 272
    },
    "id": "CNsZMjh6vlmo",
    "outputId": "9a14b806-7732-471e-d6a6-f7af34c96632",
    "scrolled": true
   },
   "outputs": [
    {
     "data": {
      "text/plain": [
       "Analyte  Unit    \n",
       "Mercury  ug/g ww     10409\n",
       "         ug/g dw       309\n",
       "         ng/g ww         7\n",
       "PBDE     ng/g ww     11196\n",
       "         pg/g dw       322\n",
       "PCB      ug/Kg ww    54249\n",
       "         ng/g ww     41267\n",
       "Name: count, dtype: int64"
      ]
     },
     "execution_count": 58,
     "metadata": {},
     "output_type": "execute_result"
    }
   ],
   "source": [
    "df2.groupby('Analyte')['Unit'].value_counts()"
   ]
  },
  {
   "cell_type": "code",
   "execution_count": 59,
   "id": "zcLZtqFz1ZL5",
   "metadata": {
    "colab": {
     "base_uri": "https://localhost:8080/",
     "height": 241
    },
    "id": "zcLZtqFz1ZL5",
    "outputId": "0923e3c7-ac22-496f-b734-f4e3e0b4d57f",
    "scrolled": true
   },
   "outputs": [
    {
     "data": {
      "text/plain": [
       "Analyte  Unit   \n",
       "Mercury  ug/g ww    10409\n",
       "         ug/g dw      309\n",
       "         ng/g ww        7\n",
       "PBDE     ng/g ww    11196\n",
       "         pg/g dw      322\n",
       "PCB      ng/g ww    95516\n",
       "Name: count, dtype: int64"
      ]
     },
     "execution_count": 59,
     "metadata": {},
     "output_type": "execute_result"
    }
   ],
   "source": [
    "df2.replace('ug/Kg ww','ng/g ww', inplace=True)\n",
    "df2.groupby('Analyte')['Unit'].value_counts()\n",
    "\n",
    "#the conversion between ug/Kg ww and ng/g ww is 1:1"
   ]
  },
  {
   "cell_type": "code",
   "execution_count": 60,
   "id": "yfkh7AW31Xt_",
   "metadata": {
    "id": "yfkh7AW31Xt_"
   },
   "outputs": [],
   "source": [
    "df2.loc[df2['Unit']== 'ug/g ww','MercuryResult'] = df2.loc[df2['Unit']== 'ug/g ww','MercuryResult']/1000\n",
    "df2.loc[df2['Unit']== 'ug/g ww','Result'] = df2.loc[df2['Unit']== 'ug/g ww','Result']/1000\n",
    "#1000 ug/g ww' = 1 ng/g ww"
   ]
  },
  {
   "cell_type": "code",
   "execution_count": 61,
   "id": "GlRnwuRUKH__",
   "metadata": {
    "colab": {
     "base_uri": "https://localhost:8080/",
     "height": 115
    },
    "id": "GlRnwuRUKH__",
    "outputId": "c7358bed-dacf-47f0-9528-16b23202d132",
    "scrolled": true
   },
   "outputs": [
    {
     "data": {
      "text/plain": [
       "True    10409\n",
       "Name: count, dtype: int64"
      ]
     },
     "execution_count": 61,
     "metadata": {},
     "output_type": "execute_result"
    }
   ],
   "source": [
    "check = df2.loc[df2['Unit']== 'ug/g ww','Result'] == df2.loc[df2['Unit']== 'ug/g ww','MercuryResult']\n",
    "check.value_counts()"
   ]
  },
  {
   "cell_type": "code",
   "execution_count": 62,
   "id": "S9V5lK0rzGhS",
   "metadata": {
    "colab": {
     "base_uri": "https://localhost:8080/",
     "height": 210
    },
    "id": "S9V5lK0rzGhS",
    "outputId": "12ec6044-6a01-4211-f5e7-2f8c00ed1abf",
    "scrolled": false
   },
   "outputs": [
    {
     "data": {
      "text/plain": [
       "Analyte  Unit   \n",
       "Mercury  ng/g ww    10416\n",
       "         ug/g dw      309\n",
       "PBDE     ng/g ww    11196\n",
       "         pg/g dw      322\n",
       "PCB      ng/g ww    95516\n",
       "Name: count, dtype: int64"
      ]
     },
     "execution_count": 62,
     "metadata": {},
     "output_type": "execute_result"
    }
   ],
   "source": [
    "df2.replace('ug/g ww','ng/g ww', inplace=True) #updated unit after conversion\n",
    "df2.groupby('Analyte')['Unit'].value_counts()"
   ]
  },
  {
   "cell_type": "code",
   "execution_count": 63,
   "id": "-54QY1v5-KHe",
   "metadata": {
    "id": "-54QY1v5-KHe"
   },
   "outputs": [],
   "source": [
    "df2.rename(columns={'MercuryResult': 'MercuryResult(ng/g ww)','PCBResult': 'PCBResult(ng/g ww)','PBDEResult': 'PBDEResult(ng/g ww)'}, inplace=True)"
   ]
  },
  {
   "cell_type": "code",
   "execution_count": 64,
   "id": "a4d01ce4",
   "metadata": {
    "colab": {
     "base_uri": "https://localhost:8080/",
     "height": 573
    },
    "id": "a4d01ce4",
    "outputId": "984bca79-0ca2-4e86-a1c5-e742ad66433f",
    "scrolled": false
   },
   "outputs": [
    {
     "data": {
      "text/html": [
       "<div>\n",
       "<style scoped>\n",
       "    .dataframe tbody tr th:only-of-type {\n",
       "        vertical-align: middle;\n",
       "    }\n",
       "\n",
       "    .dataframe tbody tr th {\n",
       "        vertical-align: top;\n",
       "    }\n",
       "\n",
       "    .dataframe thead th {\n",
       "        text-align: right;\n",
       "    }\n",
       "</style>\n",
       "<table border=\"1\" class=\"dataframe\">\n",
       "  <thead>\n",
       "    <tr style=\"text-align: right;\">\n",
       "      <th></th>\n",
       "      <th>ProjectName</th>\n",
       "      <th>CompositeID</th>\n",
       "      <th>StationName</th>\n",
       "      <th>StationCode</th>\n",
       "      <th>Latitude</th>\n",
       "      <th>Longitude</th>\n",
       "      <th>GeometryShape</th>\n",
       "      <th>EarliestDateSampled</th>\n",
       "      <th>CompositeType</th>\n",
       "      <th>CommonName</th>\n",
       "      <th>TissueName</th>\n",
       "      <th>NumberFishperComp</th>\n",
       "      <th>SampleTypeCode</th>\n",
       "      <th>CompositeReplicate</th>\n",
       "      <th>ResultReplicate</th>\n",
       "      <th>Analyte</th>\n",
       "      <th>Unit</th>\n",
       "      <th>Result</th>\n",
       "      <th>LabSampleID</th>\n",
       "      <th>OrganismGroup</th>\n",
       "      <th>WeightAvg(g)</th>\n",
       "      <th>TLMax(mm)</th>\n",
       "      <th>TLAvgLength(mm)</th>\n",
       "      <th>CompSizeCheck</th>\n",
       "      <th>SexSummary</th>\n",
       "      <th>TissueResultRowID</th>\n",
       "      <th>CompositeLatitude</th>\n",
       "      <th>CompositeLongitude</th>\n",
       "      <th>OrganismID</th>\n",
       "      <th>TotalCount</th>\n",
       "      <th>ForkLength</th>\n",
       "      <th>TotalLength(mm)</th>\n",
       "      <th>OrganismWeight(g)</th>\n",
       "      <th>Age</th>\n",
       "      <th>Sex</th>\n",
       "      <th>TissueID</th>\n",
       "      <th>TissueWeight(g)</th>\n",
       "      <th>CompositeWeight(g)</th>\n",
       "      <th>HomogonizedDate</th>\n",
       "      <th>TLMin(mm)</th>\n",
       "      <th>PCBResult(ng/g ww)</th>\n",
       "      <th>MercuryResult(ng/g ww)</th>\n",
       "      <th>PBDEResult(ng/g ww)</th>\n",
       "    </tr>\n",
       "  </thead>\n",
       "  <tbody>\n",
       "    <tr>\n",
       "      <th>140193</th>\n",
       "      <td>City of Long Beach Colorado Lagoon TMDL Monito...</td>\n",
       "      <td>F1-190709</td>\n",
       "      <td>Composite of 3 sub areas within the Western Ar...</td>\n",
       "      <td>F1</td>\n",
       "      <td>33.771563</td>\n",
       "      <td>-118.133022</td>\n",
       "      <td>PointCent</td>\n",
       "      <td>07/09/2019</td>\n",
       "      <td>Normal</td>\n",
       "      <td>Top Smelt</td>\n",
       "      <td>whole organism</td>\n",
       "      <td>26.0</td>\n",
       "      <td>Composite</td>\n",
       "      <td>1.0</td>\n",
       "      <td>1.0</td>\n",
       "      <td>PCB</td>\n",
       "      <td>ng/g ww</td>\n",
       "      <td>0.0</td>\n",
       "      <td>570-1214-1</td>\n",
       "      <td>Fish</td>\n",
       "      <td>NaN</td>\n",
       "      <td>10.6</td>\n",
       "      <td>10.6</td>\n",
       "      <td>100.0</td>\n",
       "      <td>Unk (26), M (0), F (0)</td>\n",
       "      <td>439107A5-DF06-4F18-A3A1-DEFE91EA1B72</td>\n",
       "      <td>33.7716</td>\n",
       "      <td>-118.133</td>\n",
       "      <td>F1-190709</td>\n",
       "      <td>26.0</td>\n",
       "      <td>NaN</td>\n",
       "      <td>1.06</td>\n",
       "      <td>-88.0</td>\n",
       "      <td>NaN</td>\n",
       "      <td>Unk</td>\n",
       "      <td>30083058</td>\n",
       "      <td>-88.0</td>\n",
       "      <td>-88.0</td>\n",
       "      <td>01/01/1950</td>\n",
       "      <td>10.6</td>\n",
       "      <td>0.0</td>\n",
       "      <td>NaN</td>\n",
       "      <td>NaN</td>\n",
       "    </tr>\n",
       "    <tr>\n",
       "      <th>140194</th>\n",
       "      <td>City of Long Beach Colorado Lagoon TMDL Monito...</td>\n",
       "      <td>F1-190709</td>\n",
       "      <td>Composite of 3 sub areas within the Western Ar...</td>\n",
       "      <td>F1</td>\n",
       "      <td>33.771563</td>\n",
       "      <td>-118.133022</td>\n",
       "      <td>PointCent</td>\n",
       "      <td>07/09/2019</td>\n",
       "      <td>Normal</td>\n",
       "      <td>Top Smelt</td>\n",
       "      <td>whole organism</td>\n",
       "      <td>26.0</td>\n",
       "      <td>Composite</td>\n",
       "      <td>1.0</td>\n",
       "      <td>1.0</td>\n",
       "      <td>PCB</td>\n",
       "      <td>ng/g ww</td>\n",
       "      <td>0.0</td>\n",
       "      <td>570-1214-1</td>\n",
       "      <td>Fish</td>\n",
       "      <td>NaN</td>\n",
       "      <td>10.6</td>\n",
       "      <td>10.6</td>\n",
       "      <td>100.0</td>\n",
       "      <td>Unk (26), M (0), F (0)</td>\n",
       "      <td>E59C2843-198F-4492-80BC-7261BB186EA1</td>\n",
       "      <td>33.7716</td>\n",
       "      <td>-118.133</td>\n",
       "      <td>F1-190709</td>\n",
       "      <td>26.0</td>\n",
       "      <td>NaN</td>\n",
       "      <td>1.06</td>\n",
       "      <td>-88.0</td>\n",
       "      <td>NaN</td>\n",
       "      <td>Unk</td>\n",
       "      <td>30083058</td>\n",
       "      <td>-88.0</td>\n",
       "      <td>-88.0</td>\n",
       "      <td>01/01/1950</td>\n",
       "      <td>10.6</td>\n",
       "      <td>0.0</td>\n",
       "      <td>NaN</td>\n",
       "      <td>NaN</td>\n",
       "    </tr>\n",
       "    <tr>\n",
       "      <th>140195</th>\n",
       "      <td>City of Long Beach Colorado Lagoon TMDL Monito...</td>\n",
       "      <td>F1-190709</td>\n",
       "      <td>Composite of 3 sub areas within the Western Ar...</td>\n",
       "      <td>F1</td>\n",
       "      <td>33.771563</td>\n",
       "      <td>-118.133022</td>\n",
       "      <td>PointCent</td>\n",
       "      <td>07/09/2019</td>\n",
       "      <td>Normal</td>\n",
       "      <td>Top Smelt</td>\n",
       "      <td>whole organism</td>\n",
       "      <td>26.0</td>\n",
       "      <td>Composite</td>\n",
       "      <td>1.0</td>\n",
       "      <td>1.0</td>\n",
       "      <td>PCB</td>\n",
       "      <td>ng/g ww</td>\n",
       "      <td>0.0</td>\n",
       "      <td>570-1214-1</td>\n",
       "      <td>Fish</td>\n",
       "      <td>NaN</td>\n",
       "      <td>10.6</td>\n",
       "      <td>10.6</td>\n",
       "      <td>100.0</td>\n",
       "      <td>Unk (26), M (0), F (0)</td>\n",
       "      <td>7F351E75-BA55-4A6A-A717-7A5AB749BEEA</td>\n",
       "      <td>33.7716</td>\n",
       "      <td>-118.133</td>\n",
       "      <td>F1-190709</td>\n",
       "      <td>26.0</td>\n",
       "      <td>NaN</td>\n",
       "      <td>1.06</td>\n",
       "      <td>-88.0</td>\n",
       "      <td>NaN</td>\n",
       "      <td>Unk</td>\n",
       "      <td>30083058</td>\n",
       "      <td>-88.0</td>\n",
       "      <td>-88.0</td>\n",
       "      <td>01/01/1950</td>\n",
       "      <td>10.6</td>\n",
       "      <td>0.0</td>\n",
       "      <td>NaN</td>\n",
       "      <td>NaN</td>\n",
       "    </tr>\n",
       "    <tr>\n",
       "      <th>140196</th>\n",
       "      <td>City of Long Beach Colorado Lagoon TMDL Monito...</td>\n",
       "      <td>F1-190709</td>\n",
       "      <td>Composite of 3 sub areas within the Western Ar...</td>\n",
       "      <td>F1</td>\n",
       "      <td>33.771563</td>\n",
       "      <td>-118.133022</td>\n",
       "      <td>PointCent</td>\n",
       "      <td>07/09/2019</td>\n",
       "      <td>Normal</td>\n",
       "      <td>Top Smelt</td>\n",
       "      <td>whole organism</td>\n",
       "      <td>26.0</td>\n",
       "      <td>Composite</td>\n",
       "      <td>1.0</td>\n",
       "      <td>1.0</td>\n",
       "      <td>PCB</td>\n",
       "      <td>ng/g ww</td>\n",
       "      <td>0.0</td>\n",
       "      <td>570-1214-1</td>\n",
       "      <td>Fish</td>\n",
       "      <td>NaN</td>\n",
       "      <td>10.6</td>\n",
       "      <td>10.6</td>\n",
       "      <td>100.0</td>\n",
       "      <td>Unk (26), M (0), F (0)</td>\n",
       "      <td>27CF3794-4FBD-455F-93FE-E60E7512813B</td>\n",
       "      <td>33.7716</td>\n",
       "      <td>-118.133</td>\n",
       "      <td>F1-190709</td>\n",
       "      <td>26.0</td>\n",
       "      <td>NaN</td>\n",
       "      <td>1.06</td>\n",
       "      <td>-88.0</td>\n",
       "      <td>NaN</td>\n",
       "      <td>Unk</td>\n",
       "      <td>30083058</td>\n",
       "      <td>-88.0</td>\n",
       "      <td>-88.0</td>\n",
       "      <td>01/01/1950</td>\n",
       "      <td>10.6</td>\n",
       "      <td>0.0</td>\n",
       "      <td>NaN</td>\n",
       "      <td>NaN</td>\n",
       "    </tr>\n",
       "    <tr>\n",
       "      <th>140197</th>\n",
       "      <td>City of Long Beach Colorado Lagoon TMDL Monito...</td>\n",
       "      <td>F1-190709</td>\n",
       "      <td>Composite of 3 sub areas within the Western Ar...</td>\n",
       "      <td>F1</td>\n",
       "      <td>33.771563</td>\n",
       "      <td>-118.133022</td>\n",
       "      <td>PointCent</td>\n",
       "      <td>07/09/2019</td>\n",
       "      <td>Normal</td>\n",
       "      <td>Top Smelt</td>\n",
       "      <td>whole organism</td>\n",
       "      <td>26.0</td>\n",
       "      <td>Composite</td>\n",
       "      <td>1.0</td>\n",
       "      <td>1.0</td>\n",
       "      <td>PCB</td>\n",
       "      <td>ng/g ww</td>\n",
       "      <td>0.0</td>\n",
       "      <td>570-1214-1</td>\n",
       "      <td>Fish</td>\n",
       "      <td>NaN</td>\n",
       "      <td>10.6</td>\n",
       "      <td>10.6</td>\n",
       "      <td>100.0</td>\n",
       "      <td>Unk (26), M (0), F (0)</td>\n",
       "      <td>08342AD5-F915-4687-8C21-C338F8AB629A</td>\n",
       "      <td>33.7716</td>\n",
       "      <td>-118.133</td>\n",
       "      <td>F1-190709</td>\n",
       "      <td>26.0</td>\n",
       "      <td>NaN</td>\n",
       "      <td>1.06</td>\n",
       "      <td>-88.0</td>\n",
       "      <td>NaN</td>\n",
       "      <td>Unk</td>\n",
       "      <td>30083058</td>\n",
       "      <td>-88.0</td>\n",
       "      <td>-88.0</td>\n",
       "      <td>01/01/1950</td>\n",
       "      <td>10.6</td>\n",
       "      <td>0.0</td>\n",
       "      <td>NaN</td>\n",
       "      <td>NaN</td>\n",
       "    </tr>\n",
       "  </tbody>\n",
       "</table>\n",
       "</div>"
      ],
      "text/plain": [
       "                                              ProjectName CompositeID   \n",
       "140193  City of Long Beach Colorado Lagoon TMDL Monito...   F1-190709  \\\n",
       "140194  City of Long Beach Colorado Lagoon TMDL Monito...   F1-190709   \n",
       "140195  City of Long Beach Colorado Lagoon TMDL Monito...   F1-190709   \n",
       "140196  City of Long Beach Colorado Lagoon TMDL Monito...   F1-190709   \n",
       "140197  City of Long Beach Colorado Lagoon TMDL Monito...   F1-190709   \n",
       "\n",
       "                                              StationName StationCode   \n",
       "140193  Composite of 3 sub areas within the Western Ar...          F1  \\\n",
       "140194  Composite of 3 sub areas within the Western Ar...          F1   \n",
       "140195  Composite of 3 sub areas within the Western Ar...          F1   \n",
       "140196  Composite of 3 sub areas within the Western Ar...          F1   \n",
       "140197  Composite of 3 sub areas within the Western Ar...          F1   \n",
       "\n",
       "         Latitude   Longitude GeometryShape EarliestDateSampled CompositeType   \n",
       "140193  33.771563 -118.133022     PointCent          07/09/2019        Normal  \\\n",
       "140194  33.771563 -118.133022     PointCent          07/09/2019        Normal   \n",
       "140195  33.771563 -118.133022     PointCent          07/09/2019        Normal   \n",
       "140196  33.771563 -118.133022     PointCent          07/09/2019        Normal   \n",
       "140197  33.771563 -118.133022     PointCent          07/09/2019        Normal   \n",
       "\n",
       "       CommonName      TissueName  NumberFishperComp SampleTypeCode   \n",
       "140193  Top Smelt  whole organism               26.0      Composite  \\\n",
       "140194  Top Smelt  whole organism               26.0      Composite   \n",
       "140195  Top Smelt  whole organism               26.0      Composite   \n",
       "140196  Top Smelt  whole organism               26.0      Composite   \n",
       "140197  Top Smelt  whole organism               26.0      Composite   \n",
       "\n",
       "        CompositeReplicate  ResultReplicate Analyte     Unit  Result   \n",
       "140193                 1.0              1.0     PCB  ng/g ww     0.0  \\\n",
       "140194                 1.0              1.0     PCB  ng/g ww     0.0   \n",
       "140195                 1.0              1.0     PCB  ng/g ww     0.0   \n",
       "140196                 1.0              1.0     PCB  ng/g ww     0.0   \n",
       "140197                 1.0              1.0     PCB  ng/g ww     0.0   \n",
       "\n",
       "       LabSampleID OrganismGroup  WeightAvg(g)  TLMax(mm)  TLAvgLength(mm)   \n",
       "140193  570-1214-1          Fish           NaN       10.6             10.6  \\\n",
       "140194  570-1214-1          Fish           NaN       10.6             10.6   \n",
       "140195  570-1214-1          Fish           NaN       10.6             10.6   \n",
       "140196  570-1214-1          Fish           NaN       10.6             10.6   \n",
       "140197  570-1214-1          Fish           NaN       10.6             10.6   \n",
       "\n",
       "        CompSizeCheck              SexSummary   \n",
       "140193          100.0  Unk (26), M (0), F (0)  \\\n",
       "140194          100.0  Unk (26), M (0), F (0)   \n",
       "140195          100.0  Unk (26), M (0), F (0)   \n",
       "140196          100.0  Unk (26), M (0), F (0)   \n",
       "140197          100.0  Unk (26), M (0), F (0)   \n",
       "\n",
       "                           TissueResultRowID  CompositeLatitude   \n",
       "140193  439107A5-DF06-4F18-A3A1-DEFE91EA1B72            33.7716  \\\n",
       "140194  E59C2843-198F-4492-80BC-7261BB186EA1            33.7716   \n",
       "140195  7F351E75-BA55-4A6A-A717-7A5AB749BEEA            33.7716   \n",
       "140196  27CF3794-4FBD-455F-93FE-E60E7512813B            33.7716   \n",
       "140197  08342AD5-F915-4687-8C21-C338F8AB629A            33.7716   \n",
       "\n",
       "        CompositeLongitude OrganismID  TotalCount  ForkLength   \n",
       "140193            -118.133  F1-190709        26.0         NaN  \\\n",
       "140194            -118.133  F1-190709        26.0         NaN   \n",
       "140195            -118.133  F1-190709        26.0         NaN   \n",
       "140196            -118.133  F1-190709        26.0         NaN   \n",
       "140197            -118.133  F1-190709        26.0         NaN   \n",
       "\n",
       "        TotalLength(mm)  OrganismWeight(g)  Age  Sex  TissueID   \n",
       "140193             1.06              -88.0  NaN  Unk  30083058  \\\n",
       "140194             1.06              -88.0  NaN  Unk  30083058   \n",
       "140195             1.06              -88.0  NaN  Unk  30083058   \n",
       "140196             1.06              -88.0  NaN  Unk  30083058   \n",
       "140197             1.06              -88.0  NaN  Unk  30083058   \n",
       "\n",
       "        TissueWeight(g)  CompositeWeight(g) HomogonizedDate  TLMin(mm)   \n",
       "140193            -88.0               -88.0      01/01/1950       10.6  \\\n",
       "140194            -88.0               -88.0      01/01/1950       10.6   \n",
       "140195            -88.0               -88.0      01/01/1950       10.6   \n",
       "140196            -88.0               -88.0      01/01/1950       10.6   \n",
       "140197            -88.0               -88.0      01/01/1950       10.6   \n",
       "\n",
       "        PCBResult(ng/g ww)  MercuryResult(ng/g ww)  PBDEResult(ng/g ww)  \n",
       "140193                 0.0                     NaN                  NaN  \n",
       "140194                 0.0                     NaN                  NaN  \n",
       "140195                 0.0                     NaN                  NaN  \n",
       "140196                 0.0                     NaN                  NaN  \n",
       "140197                 0.0                     NaN                  NaN  "
      ]
     },
     "execution_count": 64,
     "metadata": {},
     "output_type": "execute_result"
    }
   ],
   "source": [
    "df2.head()"
   ]
  },
  {
   "cell_type": "code",
   "execution_count": 65,
   "id": "d5865315",
   "metadata": {
    "colab": {
     "base_uri": "https://localhost:8080/"
    },
    "id": "d5865315",
    "outputId": "d83652e4-ab05-4fe3-b6dd-16757be65a27"
   },
   "outputs": [
    {
     "data": {
      "text/plain": [
       "(117759, 43)"
      ]
     },
     "execution_count": 65,
     "metadata": {},
     "output_type": "execute_result"
    }
   ],
   "source": [
    "df2.shape"
   ]
  },
  {
   "cell_type": "markdown",
   "id": "99126b18",
   "metadata": {
    "id": "99126b18"
   },
   "source": [
    "### Data Cleaning - Duplicates & Null Values\n",
    "\n",
    "Now I explore the null values to understand what is the best way to process them. First I drop the duplicated columns "
   ]
  },
  {
   "cell_type": "code",
   "execution_count": 66,
   "id": "95a1e3c0",
   "metadata": {
    "colab": {
     "base_uri": "https://localhost:8080/"
    },
    "id": "95a1e3c0",
    "outputId": "6288a1e8-20dd-46bf-8bc0-2a589dc3a4f2"
   },
   "outputs": [
    {
     "data": {
      "text/plain": [
       "0"
      ]
     },
     "execution_count": 66,
     "metadata": {},
     "output_type": "execute_result"
    }
   ],
   "source": [
    "df2.duplicated().sum()"
   ]
  },
  {
   "cell_type": "code",
   "execution_count": 67,
   "id": "cc7c1065",
   "metadata": {
    "colab": {
     "base_uri": "https://localhost:8080/"
    },
    "id": "cc7c1065",
    "outputId": "9d4ac842-0c2a-416b-a067-afe44cbf5395"
   },
   "outputs": [
    {
     "data": {
      "text/plain": [
       "0.0"
      ]
     },
     "execution_count": 67,
     "metadata": {},
     "output_type": "execute_result"
    }
   ],
   "source": [
    "df2.duplicated().mean() #about 15% of the data is dups"
   ]
  },
  {
   "cell_type": "code",
   "execution_count": 68,
   "id": "f13dd6a4",
   "metadata": {
    "id": "f13dd6a4"
   },
   "outputs": [],
   "source": [
    "df2.drop_duplicates(inplace=True)"
   ]
  },
  {
   "cell_type": "code",
   "execution_count": 69,
   "id": "1fb45d92",
   "metadata": {
    "colab": {
     "base_uri": "https://localhost:8080/"
    },
    "id": "1fb45d92",
    "outputId": "be58b54a-6636-4582-de50-8664de8131de"
   },
   "outputs": [
    {
     "data": {
      "text/plain": [
       "0"
      ]
     },
     "execution_count": 69,
     "metadata": {},
     "output_type": "execute_result"
    }
   ],
   "source": [
    "df2.duplicated().sum()"
   ]
  },
  {
   "cell_type": "markdown",
   "id": "bf7d62b2",
   "metadata": {
    "id": "bf7d62b2"
   },
   "source": [
    "Now looking at the null values..."
   ]
  },
  {
   "cell_type": "code",
   "execution_count": 70,
   "id": "ff192a10",
   "metadata": {
    "colab": {
     "base_uri": "https://localhost:8080/",
     "height": 1000
    },
    "id": "ff192a10",
    "outputId": "43b044f2-e0dc-4caf-95dd-85a23c6e2271",
    "scrolled": true
   },
   "outputs": [
    {
     "data": {
      "text/plain": [
       "ProjectName                    0\n",
       "CompositeID                    0\n",
       "StationName                    0\n",
       "StationCode                    0\n",
       "Latitude                       0\n",
       "Longitude                      0\n",
       "GeometryShape               7688\n",
       "EarliestDateSampled            0\n",
       "CompositeType                  0\n",
       "CommonName                     0\n",
       "TissueName                     0\n",
       "NumberFishperComp              7\n",
       "SampleTypeCode                 0\n",
       "CompositeReplicate             0\n",
       "ResultReplicate                0\n",
       "Analyte                        0\n",
       "Unit                           0\n",
       "Result                         0\n",
       "LabSampleID                    0\n",
       "OrganismGroup                  0\n",
       "WeightAvg(g)               27793\n",
       "TLMax(mm)                  27413\n",
       "TLAvgLength(mm)            27413\n",
       "CompSizeCheck              27413\n",
       "SexSummary                     7\n",
       "TissueResultRowID              0\n",
       "CompositeLatitude              0\n",
       "CompositeLongitude             0\n",
       "OrganismID                     0\n",
       "TotalCount                     7\n",
       "ForkLength                 32085\n",
       "TotalLength(mm)            28720\n",
       "OrganismWeight(g)          28813\n",
       "Age                        30181\n",
       "Sex                        28815\n",
       "TissueID                       0\n",
       "TissueWeight(g)                0\n",
       "CompositeWeight(g)             0\n",
       "HomogonizedDate                0\n",
       "TLMin(mm)                  27413\n",
       "PCBResult(ng/g ww)         22243\n",
       "MercuryResult(ng/g ww)    107034\n",
       "PBDEResult(ng/g ww)       106241\n",
       "dtype: int64"
      ]
     },
     "execution_count": 70,
     "metadata": {},
     "output_type": "execute_result"
    }
   ],
   "source": [
    "df2.isna().sum()"
   ]
  },
  {
   "cell_type": "code",
   "execution_count": 71,
   "id": "6a1719ef",
   "metadata": {
    "colab": {
     "base_uri": "https://localhost:8080/",
     "height": 1000
    },
    "id": "6a1719ef",
    "outputId": "f93c6cc0-e13f-483c-e820-402198b41baa",
    "scrolled": true
   },
   "outputs": [
    {
     "data": {
      "text/plain": [
       "ProjectName                0.000000\n",
       "CompositeID                0.000000\n",
       "StationName                0.000000\n",
       "StationCode                0.000000\n",
       "Latitude                   0.000000\n",
       "Longitude                  0.000000\n",
       "GeometryShape              6.528588\n",
       "EarliestDateSampled        0.000000\n",
       "CompositeType              0.000000\n",
       "CommonName                 0.000000\n",
       "TissueName                 0.000000\n",
       "NumberFishperComp          0.005944\n",
       "SampleTypeCode             0.000000\n",
       "CompositeReplicate         0.000000\n",
       "ResultReplicate            0.000000\n",
       "Analyte                    0.000000\n",
       "Unit                       0.000000\n",
       "Result                     0.000000\n",
       "LabSampleID                0.000000\n",
       "OrganismGroup              0.000000\n",
       "WeightAvg(g)              23.601593\n",
       "TLMax(mm)                 23.278900\n",
       "TLAvgLength(mm)           23.278900\n",
       "CompSizeCheck             23.278900\n",
       "SexSummary                 0.005944\n",
       "TissueResultRowID          0.000000\n",
       "CompositeLatitude          0.000000\n",
       "CompositeLongitude         0.000000\n",
       "OrganismID                 0.000000\n",
       "TotalCount                 0.005944\n",
       "ForkLength                27.246325\n",
       "TotalLength(mm)           24.388794\n",
       "OrganismWeight(g)         24.467769\n",
       "Age                       25.629464\n",
       "Sex                       24.469467\n",
       "TissueID                   0.000000\n",
       "TissueWeight(g)            0.000000\n",
       "CompositeWeight(g)         0.000000\n",
       "HomogonizedDate            0.000000\n",
       "TLMin(mm)                 23.278900\n",
       "PCBResult(ng/g ww)        18.888578\n",
       "MercuryResult(ng/g ww)    90.892416\n",
       "PBDEResult(ng/g ww)       90.219007\n",
       "dtype: float64"
      ]
     },
     "execution_count": 71,
     "metadata": {},
     "output_type": "execute_result"
    }
   ],
   "source": [
    "df2.isna().mean()*100"
   ]
  },
  {
   "cell_type": "markdown",
   "id": "7f625bee",
   "metadata": {},
   "source": [
    "#### Categorical Column Nulls\n",
    "\n",
    "I will first look at the categorical columns since there are less of them"
   ]
  },
  {
   "cell_type": "markdown",
   "id": "0e8df2de",
   "metadata": {},
   "source": [
    "###### Geometry Shape"
   ]
  },
  {
   "cell_type": "code",
   "execution_count": 72,
   "id": "4e3bd56d",
   "metadata": {
    "colab": {
     "base_uri": "https://localhost:8080/",
     "height": 304
    },
    "id": "4e3bd56d",
    "outputId": "5a7cee54-f54d-4b2d-d5d3-d3a284b00836",
    "scrolled": false
   },
   "outputs": [
    {
     "data": {
      "text/plain": [
       "GeometryShape\n",
       "PolygonCent     60964\n",
       "Point           41426\n",
       "Polygon          6837\n",
       "Not Provided      636\n",
       "PointCent         182\n",
       "point              26\n",
       "Name: count, dtype: int64"
      ]
     },
     "execution_count": 72,
     "metadata": {},
     "output_type": "execute_result"
    }
   ],
   "source": [
    "df2['GeometryShape'].value_counts()\n"
   ]
  },
  {
   "cell_type": "code",
   "execution_count": 73,
   "id": "68bb8c3a",
   "metadata": {
    "id": "68bb8c3a"
   },
   "outputs": [
    {
     "data": {
      "text/plain": [
       "GeometryShape\n",
       "PolygonCent     60964\n",
       "Point           41426\n",
       "Not Provided     8324\n",
       "Polygon          6837\n",
       "PointCent         182\n",
       "point              26\n",
       "Name: count, dtype: int64"
      ]
     },
     "execution_count": 73,
     "metadata": {},
     "output_type": "execute_result"
    }
   ],
   "source": [
    "# I can just fill in nulls with 'Not Provided'\n",
    "df2['GeometryShape'] = df2['GeometryShape'].fillna('Not Provided')\n",
    "df2['GeometryShape'].value_counts()"
   ]
  },
  {
   "cell_type": "markdown",
   "id": "3a3cc5a1",
   "metadata": {},
   "source": [
    "###### Age"
   ]
  },
  {
   "cell_type": "code",
   "execution_count": 74,
   "id": "d5bc3a5b",
   "metadata": {
    "colab": {
     "base_uri": "https://localhost:8080/",
     "height": 147
    },
    "id": "d5bc3a5b",
    "outputId": "ffbac8a2-7756-42ed-e662-eee0a25a18b0",
    "scrolled": true
   },
   "outputs": [
    {
     "data": {
      "text/plain": [
       "Age\n",
       "NR    87578\n",
       "Name: count, dtype: int64"
      ]
     },
     "execution_count": 74,
     "metadata": {},
     "output_type": "execute_result"
    }
   ],
   "source": [
    "df2['Age'].value_counts()\n",
    "# this column is mono valued, meaning it doesn't give us any valuable info, drop it"
   ]
  },
  {
   "cell_type": "code",
   "execution_count": 75,
   "id": "e6793eae",
   "metadata": {
    "id": "e6793eae",
    "scrolled": true
   },
   "outputs": [],
   "source": [
    "df2= df2.drop('Age',axis=1)"
   ]
  },
  {
   "cell_type": "markdown",
   "id": "64764885",
   "metadata": {},
   "source": [
    "###### Sex Column"
   ]
  },
  {
   "cell_type": "code",
   "execution_count": 76,
   "id": "d57cd6a7",
   "metadata": {
    "colab": {
     "base_uri": "https://localhost:8080/",
     "height": 272
    },
    "id": "d57cd6a7",
    "outputId": "ee3364e0-2e77-4c38-f7e9-ef1319f1c627",
    "scrolled": true
   },
   "outputs": [
    {
     "data": {
      "text/plain": [
       "Sex\n",
       "LAB    61361\n",
       "M       9559\n",
       "F       9298\n",
       "NR      7405\n",
       "Unk     1321\n",
       "Name: count, dtype: int64"
      ]
     },
     "execution_count": 76,
     "metadata": {},
     "output_type": "execute_result"
    }
   ],
   "source": [
    "df2['Sex'].value_counts()\n"
   ]
  },
  {
   "cell_type": "code",
   "execution_count": 77,
   "id": "788e2e87",
   "metadata": {
    "id": "788e2e87"
   },
   "outputs": [],
   "source": [
    "df2['Sex'] = df2['Sex'].fillna('NR')\n"
   ]
  },
  {
   "cell_type": "code",
   "execution_count": 78,
   "id": "902e3724",
   "metadata": {},
   "outputs": [
    {
     "data": {
      "text/plain": [
       "Sex\n",
       "NR    98902\n",
       "M      9559\n",
       "F      9298\n",
       "Name: count, dtype: int64"
      ]
     },
     "execution_count": 78,
     "metadata": {},
     "output_type": "execute_result"
    }
   ],
   "source": [
    "#NR = Not Recorded & UNk = Unknown, we can combine these, and then put the nulls into Not Recorded\n",
    "\n",
    "sex = df2['Sex'].str.contains('Unk')\n",
    "df2.loc[sex, 'Sex'] = 'NR'\n",
    "\n",
    "#Both the values LAB & NR are unknown sexes, LAB means they are still in the lab, unidentified, needs to be grouped into NR\n",
    "sex2 = df2['Sex'].str.contains('LAB')\n",
    "df2.loc[sex2, 'Sex'] = 'NR'\n",
    "df2['Sex'].value_counts()"
   ]
  },
  {
   "cell_type": "markdown",
   "id": "06c8f86d",
   "metadata": {
    "id": "06c8f86d"
   },
   "source": [
    "Both the values LAB & NR are unknown sexes, LAB means they are still in the lab, unidentified, needs to be grouped into NR"
   ]
  },
  {
   "cell_type": "markdown",
   "id": "a869f9dd",
   "metadata": {
    "id": "a869f9dd"
   },
   "source": [
    "#### Numerical Columns Nulls\n",
    "\n",
    "Now I will look at the numeric columns. Before looking into the numeric column null values, I need to reduce the number of features in the common name in order to make a more meaningful analysis. After doing extensive research, chemicals bioaccumulates exponentially up through the tropic levels. Forage fish are the primary consumers that serves as a stable food source for all larger species. They tend to feed on very small organisms. As a result, presences of contaminanes in forage fish would be a significant indicator of the severity of bioaccumulation up the trophic levels. If the chemical presence in forage fish is elevated, it would indicate that the environment is significantly impacted. They serve as a pivotal link between generally or microscopic organisms."
   ]
  },
  {
   "cell_type": "markdown",
   "id": "87a18dd7",
   "metadata": {},
   "source": [
    "##### Group Species\n",
    "The way that makes the most sense to group them is by 1) Freshwater vs Saltwater Species, 2) Trophic levels. According to research, the trophic levels for my set of organisms are the following:\n",
    "* Freshwater Filter Feeders\n",
    "* Freshwater Primary Consumer Forage\n",
    "* Freshwater Omnivores Forage\n",
    "* Freshwater Omnivores\n",
    "* Freshwater Piscivores\n",
    "* Freshwater Top Predators\n",
    "* Saltwater Filter Feeders\n",
    "* Saltwater Primary Consumer Forage\n",
    "* Saltwater Omnivores\n",
    "* Saltwater Piscivores Forage\n",
    "* Saltwater Piscivores\n",
    "* Saltwater Top Predators\n",
    "* Primary Consumers\n"
   ]
  },
  {
   "cell_type": "code",
   "execution_count": 79,
   "id": "df18f898",
   "metadata": {
    "colab": {
     "base_uri": "https://localhost:8080/"
    },
    "id": "df18f898",
    "outputId": "5d6b728a-1d55-4ddd-c8a1-66692114802c"
   },
   "outputs": [
    {
     "data": {
      "text/plain": [
       "87"
      ]
     },
     "execution_count": 79,
     "metadata": {},
     "output_type": "execute_result"
    }
   ],
   "source": [
    "df2['CommonName'].nunique()"
   ]
  },
  {
   "cell_type": "code",
   "execution_count": 80,
   "id": "654593c2",
   "metadata": {
    "colab": {
     "base_uri": "https://localhost:8080/"
    },
    "id": "654593c2",
    "outputId": "97b489d8-6620-4426-9abc-8018718d8797",
    "scrolled": true
   },
   "outputs": [
    {
     "data": {
      "text/plain": [
       "array(['Top Smelt', 'Tilapia spp.', 'Flathead Catfish', 'Channel Catfish',\n",
       "       'Largemouth Bass', 'Common Carp', 'Bluegill', 'Rainbow Trout',\n",
       "       'Blue Catfish', 'Barred Surfperch', 'Northern Anchovy',\n",
       "       'Shiner Surfperch', 'California Corbina', 'White Croaker',\n",
       "       'Jacksmelt', 'Striped Mullet', 'Chub Mackerel',\n",
       "       'Spotted Sand Bass', 'Black Perch', 'White Surfperch',\n",
       "       'Brown Rockfish', 'Pile Surfperch', 'Vermillion Rockfish',\n",
       "       'Pacific Oyster', 'Leopard shark', 'Striped Bass',\n",
       "       'Redear Sunfish', 'Sacramento Sucker', 'Chinook Salmon',\n",
       "       'Spotted Bass', 'California Spiny Lobster', 'Graceful Rock Crab',\n",
       "       'Green Sunfish', 'Hitch', 'Goldfish', 'Smallmouth Bass',\n",
       "       'Black Crappie', 'Mississippi silverside', 'Threadfin Shad',\n",
       "       'Sacramento Pikeminnow', 'Warmouth', 'Sculpin', 'Mosquitofish',\n",
       "       'Golden Shiner', 'Tule Perch', 'Pacific Bonito',\n",
       "       'Walleye Surfperch', 'Spotfin Croaker', 'Barred Sand Bass',\n",
       "       'Queenfish', 'California Mussel', 'Brown Bullhead',\n",
       "       'Pacific Sardine', 'Jack Mackerel', 'Yellowfin Croaker',\n",
       "       'Striped Surfperch', 'Reef Perch', 'Hardhead', 'Zebra Perch',\n",
       "       'Sacramento Perch', 'Brown Trout', 'Lahontan Cutthroat Trout',\n",
       "       'Lake Trout', 'Crappie', 'Zooplankton (un-identified)',\n",
       "       'California Halibut', 'Blue Rockfish', 'Rainbow Surfperch',\n",
       "       'Surf Smelt', 'Canary Rockfish', 'Deacon Rockfish',\n",
       "       'Pacific Sanddab', 'Olive Rockfish', 'Copper Rockfish',\n",
       "       'Pacific Angel Shark', 'Pacific Common Thresher Shark',\n",
       "       'Black Rockfish', 'Gopher Rockfish', 'Yellowtail Rockfish',\n",
       "       'Lingcod', 'Bat Ray', 'Yellow Bullhead', 'Longjaw Mudsucker',\n",
       "       'Pacific Staghorn Sculpin', 'Threespine Stickleback',\n",
       "       'White Catfish', 'Kokanee'], dtype=object)"
      ]
     },
     "execution_count": 80,
     "metadata": {},
     "output_type": "execute_result"
    }
   ],
   "source": [
    "df2['CommonName'].unique()"
   ]
  },
  {
   "cell_type": "code",
   "execution_count": 81,
   "id": "db38c1b9",
   "metadata": {
    "id": "db38c1b9"
   },
   "outputs": [],
   "source": [
    "df2['SpeciesGroup'] = \"TBD\" # add new column in main dataframe to be filled in as we filter and label"
   ]
  },
  {
   "cell_type": "code",
   "execution_count": 82,
   "id": "a79da022",
   "metadata": {
    "id": "a79da022"
   },
   "outputs": [
    {
     "name": "stdout",
     "output_type": "stream",
     "text": [
      "['Saltwater Piscivores Forage' 'Freshwater Piscivores'\n",
      " 'Freshwater Omnivores Forage' 'Freshwater Top Predators'\n",
      " 'Saltwater Piscivores' 'Saltwater Omnivores' 'Saltwater Top Predators'\n",
      " 'Saltwater Primary Consumer Forage' 'Saltwater Filter Feeders'\n",
      " 'Freshwater Omnivores' 'Primary Consumers'\n",
      " 'Freshwater Primary Consumer Forage']\n"
     ]
    }
   ],
   "source": [
    "fff=['Asiatic Clam','Freshwater Clam']\n",
    "fpcf=['Threespine Stickleback', 'Longjaw Mudsucker']\n",
    "fof=['Common Carp', 'Golden Shiner', 'Mosquitofish', 'Fathead Minnow', 'Red Shiner','Threadfin Shad', 'Mississippi Silverside', 'Mississippi silverside']\n",
    "fo =['Crayfish','Hitch', 'Goldfish',' Red Swamp Crayfish', 'Red Swamp Crayfish']\n",
    "fp=['Sacramento Sucker', 'Bluegill', 'Flathead Catfish', 'Largemouth Bass', 'Tilapia spp.', 'Green Sunfish', 'Spotted Bass', 'Channel Catfish', 'Redear Sunfish', 'Smallmouth Bass', 'Warmouth', 'Brown Bullhead', 'Blue Catfish', 'Black Crappie', 'Yellow Bullhead', 'Brown Trout', 'Lahontan Cutthroat Trout','Tule Perch', 'Sacramento Perch', 'Crappie', 'Hardhead','Lake Trout']\n",
    "ftp=['Striped Bass', 'White Catfish', 'Kokanee', 'Chinook Salmon', 'Sacramento Pikeminnow', 'Rainbow Trout', 'Black Crappie']\n",
    "sff=['Pacific Oyster', 'California Mussel']\n",
    "spcf=['White Surfperch', 'Mississippi Silverside', 'Surf Smelt']\n",
    "so=['Shiner Surfperch', 'Reef Perch', 'Shore Crab', 'Yellow Shore Crab', 'European Green Crab', 'Zebra Perch','Graceful Rock Crab','Yellow shore crab','European green crab','Shore crab' ]\n",
    "spf=['Top Smelt', 'Jacksmelt', 'White Croaker', 'Northern Anchovy', 'Pacific Sardine', 'Surf Smelt']\n",
    "sp=['Barred Surfperch', 'Spotted Sand Bass','Chub Mackerel', 'Black Perch', 'Pile Surfperch', 'Striped Surfperch', 'Walleye Surfperch', 'California Halibut', 'California Corbina', 'Rainbow Surfperch','Copper Rockfish', 'Black Rockfish', 'Sculpin', 'Leopard Shark', 'Pacific Staghorn Sculpin', 'Pacific Sanddab','Yellowfin Croaker']\n",
    "stp=['Gopher Rockfish', 'Blue Rockfish', 'Brown Rockfish', 'Canary Rockfish', 'Spotfin Croaker', 'Striped Mullet', 'Leopard Shark','Leopard shark', 'Vermillion Rockfish', 'Pacific Bonito', 'Bat Ray', 'Olive Rockfish', 'Yellowtail Rockfish', 'Queenfish', 'Barred Sand Bass', 'Jack Mackerel', 'Deacon Rockfish', 'Pacific Angel Shark', 'Pacific Common Thresher Shark', 'Lingcod','California Spiny Lobster']\n",
    "pc=['Zooplankton (un-identified)','Phytoplankton (un-identified)']\n",
    "\n",
    "group = (fff,fpcf,fof,fo,fp,ftp,sff,spcf,so,spf,sp,stp,pc)\n",
    "species_group = ('Freshwater Filter Feeders','Freshwater Primary Consumer Forage','Freshwater Omnivores Forage','Freshwater Omnivores','Freshwater Piscivores','Freshwater Top Predators','Saltwater Filter Feeders','Saltwater Primary Consumer Forage','Saltwater Omnivores','Saltwater Piscivores Forage','Saltwater Piscivores','Saltwater Top Predators','Primary Consumers')\n",
    "\n",
    "for g, s in zip(group,species_group):\n",
    "    filtered_group=df2['CommonName'].isin(g)\n",
    "    df2.loc[filtered_group ,'SpeciesGroup']= s\n",
    "print(df2['SpeciesGroup'].unique())\n",
    "\n",
    "\n",
    "# Assigns each species to a group and populate the new column"
   ]
  },
  {
   "cell_type": "code",
   "execution_count": 83,
   "id": "5b2c096b",
   "metadata": {
    "colab": {
     "base_uri": "https://localhost:8080/"
    },
    "id": "5b2c096b",
    "outputId": "662d0eb6-0635-4fb7-fa5d-eabdf87753fc"
   },
   "outputs": [
    {
     "data": {
      "text/plain": [
       "0"
      ]
     },
     "execution_count": 83,
     "metadata": {},
     "output_type": "execute_result"
    }
   ],
   "source": [
    "tbd=df2[df2['SpeciesGroup']=='TBD']\n",
    "tbd['CommonName'].nunique() #check"
   ]
  },
  {
   "cell_type": "code",
   "execution_count": 84,
   "id": "23c879a6",
   "metadata": {
    "colab": {
     "base_uri": "https://localhost:8080/",
     "height": 1000
    },
    "id": "59b91bc5",
    "outputId": "4e9b5c88-1c45-4733-eacf-7d998df42f86"
   },
   "outputs": [
    {
     "data": {
      "text/plain": [
       "ProjectName                    0\n",
       "CompositeID                    0\n",
       "StationName                    0\n",
       "StationCode                    0\n",
       "Latitude                       0\n",
       "Longitude                      0\n",
       "GeometryShape                  0\n",
       "EarliestDateSampled            0\n",
       "CompositeType                  0\n",
       "CommonName                     0\n",
       "TissueName                     0\n",
       "NumberFishperComp              7\n",
       "SampleTypeCode                 0\n",
       "CompositeReplicate             0\n",
       "ResultReplicate                0\n",
       "Analyte                        0\n",
       "Unit                           0\n",
       "Result                         0\n",
       "LabSampleID                    0\n",
       "OrganismGroup                  0\n",
       "WeightAvg(g)               27793\n",
       "TLMax(mm)                  27413\n",
       "TLAvgLength(mm)            27413\n",
       "CompSizeCheck              27413\n",
       "SexSummary                     7\n",
       "TissueResultRowID              0\n",
       "CompositeLatitude              0\n",
       "CompositeLongitude             0\n",
       "OrganismID                     0\n",
       "TotalCount                     7\n",
       "ForkLength                 32085\n",
       "TotalLength(mm)            28720\n",
       "OrganismWeight(g)          28813\n",
       "Sex                            0\n",
       "TissueID                       0\n",
       "TissueWeight(g)                0\n",
       "CompositeWeight(g)             0\n",
       "HomogonizedDate                0\n",
       "TLMin(mm)                  27413\n",
       "PCBResult(ng/g ww)         22243\n",
       "MercuryResult(ng/g ww)    107034\n",
       "PBDEResult(ng/g ww)       106241\n",
       "SpeciesGroup                   0\n",
       "dtype: int64"
      ]
     },
     "execution_count": 84,
     "metadata": {},
     "output_type": "execute_result"
    }
   ],
   "source": [
    "df2.isna().sum()"
   ]
  },
  {
   "cell_type": "markdown",
   "id": "c31833c6",
   "metadata": {},
   "source": [
    "Now I can look into the unit columns. I started with the WeightAvg(g)"
   ]
  },
  {
   "cell_type": "code",
   "execution_count": 85,
   "id": "db73f2ff",
   "metadata": {
    "colab": {
     "base_uri": "https://localhost:8080/",
     "height": 711
    },
    "id": "db73f2ff",
    "outputId": "8a939e4b-036e-4b7c-ce4a-7fa13686ef67"
   },
   "outputs": [
    {
     "data": {
      "text/plain": [
       "CommonName\n",
       "Pacific Oyster                 25396\n",
       "White Surfperch                 1579\n",
       "Top Smelt                        374\n",
       "California Mussel                324\n",
       "Gopher Rockfish                   18\n",
       "Olive Rockfish                    16\n",
       "Redear Sunfish                    14\n",
       "Black Rockfish                    10\n",
       "Blue Rockfish                      9\n",
       "Vermillion Rockfish                9\n",
       "Leopard shark                      9\n",
       "Canary Rockfish                    7\n",
       "Largemouth Bass                    5\n",
       "Zooplankton (un-identified)        5\n",
       "Bluegill                           5\n",
       "Bat Ray                            5\n",
       "Brown Rockfish                     5\n",
       "Yellowtail Rockfish                3\n",
       "Name: count, dtype: int64"
      ]
     },
     "execution_count": 85,
     "metadata": {},
     "output_type": "execute_result"
    }
   ],
   "source": [
    "weight_na = df2[df2['WeightAvg(g)'].isna()]\n",
    "weight_na['CommonName'].value_counts()"
   ]
  },
  {
   "cell_type": "code",
   "execution_count": 86,
   "id": "75fbed17",
   "metadata": {
    "colab": {
     "base_uri": "https://localhost:8080/",
     "height": 366
    },
    "id": "75fbed17",
    "outputId": "7fb7c633-2adf-4e1e-8060-21723479aa04"
   },
   "outputs": [
    {
     "data": {
      "text/plain": [
       "SpeciesGroup\n",
       "Saltwater Filter Feeders             25720\n",
       "Saltwater Primary Consumer Forage     1579\n",
       "Saltwater Piscivores Forage            374\n",
       "Saltwater Top Predators                 81\n",
       "Freshwater Piscivores                   24\n",
       "Saltwater Piscivores                    10\n",
       "Primary Consumers                        5\n",
       "Name: count, dtype: int64"
      ]
     },
     "execution_count": 86,
     "metadata": {},
     "output_type": "execute_result"
    }
   ],
   "source": [
    "weight_na['SpeciesGroup'].value_counts()"
   ]
  },
  {
   "cell_type": "code",
   "execution_count": 87,
   "id": "1737bc20",
   "metadata": {
    "colab": {
     "base_uri": "https://localhost:8080/"
    },
    "id": "1737bc20",
    "outputId": "baa0d026-8746-4a37-a8bb-d83d96a3fa6e"
   },
   "outputs": [
    {
     "data": {
      "text/plain": [
       "array(['Saltwater Piscivores Forage', 'Saltwater Filter Feeders',\n",
       "       'Saltwater Primary Consumer Forage', 'Freshwater Piscivores',\n",
       "       'Primary Consumers', 'Saltwater Top Predators',\n",
       "       'Saltwater Piscivores'], dtype=object)"
      ]
     },
     "execution_count": 87,
     "metadata": {},
     "output_type": "execute_result"
    }
   ],
   "source": [
    "weight_na['SpeciesGroup'].unique()"
   ]
  },
  {
   "cell_type": "code",
   "execution_count": 88,
   "id": "e6839d27",
   "metadata": {
    "colab": {
     "base_uri": "https://localhost:8080/",
     "height": 1000
    },
    "id": "e6839d27",
    "outputId": "97859a94-6db2-488e-e4e0-622d790cca2c"
   },
   "outputs": [
    {
     "name": "stderr",
     "output_type": "stream",
     "text": [
      "/opt/anaconda3/envs/ml_env/lib/python3.8/site-packages/numpy/lib/nanfunctions.py:1215: RuntimeWarning: Mean of empty slice\n",
      "  return np.nanmean(a, axis, out=out, keepdims=keepdims)\n"
     ]
    },
    {
     "data": {
      "image/png": "[encoded data removed]",
      "text/plain": [
       "<Figure size 2500x2500 with 6 Axes>"
      ]
     },
     "metadata": {},
     "output_type": "display_data"
    }
   ],
   "source": [
    "#Graph the mean & median to see which one is better to use to fill in null values\n",
    "\n",
    "import seaborn as sns\n",
    "\n",
    "weight_na_speciesgroups= ['Saltwater Piscivores Forage', 'Freshwater Filter Feeders',\n",
    "       'Saltwater Filter Feeders', 'Saltwater Primary Consumer Forage',\n",
    "       'Freshwater Piscivores', 'Saltwater Top Predators']\n",
    "\n",
    "\n",
    "# Create the figure and axes\n",
    "fig, ax = plt.subplots(3,2, figsize=(25,25))\n",
    "\n",
    "# Plot the histograms by group\n",
    "for i,n in enumerate(weight_na_speciesgroups):\n",
    "    plt.subplot(3,2,i+1)\n",
    "    sns.histplot(data=df2.loc[df2['SpeciesGroup']== n], x=\"WeightAvg(g)\")\n",
    "    mean_values = df2.loc[df2['SpeciesGroup']== n][\"WeightAvg(g)\"].mean()\n",
    "    plt.axvline(mean_values, color= \"red\", ls=\"--\", label=f\"{'WeightAvg(g)'} Mean\")\n",
    "    median_values = df2.loc[df2['SpeciesGroup']== n][\"WeightAvg(g)\"].median()\n",
    "    plt.axvline(median_values, color=\"yellow\", ls=\"--\", label=f\"{'WeightAvg(g)'} Median\")\n",
    "    plt.xlabel(\"WeightAvg(g)\")\n",
    "    plt.ylabel(\"count\")\n",
    "    plt.title(n)\n",
    "    plt.legend()\n",
    "\n",
    "# Add legend and labels\n",
    "plt.tight_layout()\n",
    "plt.show()"
   ]
  },
  {
   "cell_type": "code",
   "execution_count": 89,
   "id": "836131ee",
   "metadata": {
    "colab": {
     "base_uri": "https://localhost:8080/",
     "height": 523
    },
    "id": "836131ee",
    "outputId": "15feb862-c9e9-411d-b566-f01dd91d7473",
    "scrolled": true
   },
   "outputs": [
    {
     "data": {
      "text/plain": [
       "SpeciesGroup\n",
       "Freshwater Omnivores                   302.000000\n",
       "Freshwater Omnivores Forage           1102.000000\n",
       "Freshwater Piscivores                  847.000000\n",
       "Freshwater Primary Consumer Forage       0.622500\n",
       "Freshwater Top Predators               524.444444\n",
       "Primary Consumers                             NaN\n",
       "Saltwater Filter Feeders                      NaN\n",
       "Saltwater Omnivores                     22.170588\n",
       "Saltwater Piscivores                   200.000000\n",
       "Saltwater Piscivores Forage             35.562500\n",
       "Saltwater Primary Consumer Forage      115.400000\n",
       "Saltwater Top Predators                815.000000\n",
       "Name: WeightAvg(g), dtype: float64"
      ]
     },
     "execution_count": 89,
     "metadata": {},
     "output_type": "execute_result"
    }
   ],
   "source": [
    "# since the median lies within more of the distribution of values, it is a better choise to use to fill in the nums\n",
    "df2.groupby(['SpeciesGroup'])['WeightAvg(g)'].median()"
   ]
  },
  {
   "cell_type": "code",
   "execution_count": 90,
   "id": "1186e578",
   "metadata": {
    "colab": {
     "base_uri": "https://localhost:8080/"
    },
    "id": "1186e578",
    "outputId": "62a8c88f-1266-449e-d9f8-edcfa8508e19"
   },
   "outputs": [
    {
     "name": "stdout",
     "output_type": "stream",
     "text": [
      "25735\n"
     ]
    }
   ],
   "source": [
    "\n",
    "\n",
    "weight_na_speciesgroups= ['Saltwater Piscivores Forage','Saltwater Primary Consumer Forage',\n",
    "       'Freshwater Piscivores', 'Saltwater Top Predators']\n",
    "\n",
    "for n in weight_na_speciesgroups:\n",
    "    df2.loc[(df2['SpeciesGroup']== n )&(df2['WeightAvg(g)'].isna())]= df2.loc[(df2['SpeciesGroup']== n )&(df2['WeightAvg(g)'].isna())].fillna(df2.loc[df2['SpeciesGroup']== n]['WeightAvg(g)'].median())\n",
    "\n",
    "check = df2['WeightAvg(g)'].isna().sum()\n",
    "print(check)"
   ]
  },
  {
   "cell_type": "markdown",
   "id": "91dda09a",
   "metadata": {},
   "source": [
    "Since for the Primary Consumers, all of the values are null values, I decided to drop them as inputing 0 for the weight doesn't make sense.\n"
   ]
  },
  {
   "cell_type": "code",
   "execution_count": 91,
   "id": "952d5ffb",
   "metadata": {
    "colab": {
     "base_uri": "https://localhost:8080/"
    },
    "id": "952d5ffb",
    "outputId": "ae59f626-e560-42b9-ab41-edfd3d2a39b9"
   },
   "outputs": [],
   "source": [
    "df2.drop(df2[df2['SpeciesGroup']== 'Primary Consumers'].index, inplace=True)\n"
   ]
  },
  {
   "cell_type": "code",
   "execution_count": 92,
   "id": "d7147cbf",
   "metadata": {},
   "outputs": [
    {
     "data": {
      "text/plain": [
       "SpeciesGroup\n",
       "Freshwater Omnivores                       0.000000\n",
       "Freshwater Omnivores Forage             6898.938695\n",
       "Freshwater Piscivores                  26453.673957\n",
       "Freshwater Primary Consumer Forage         0.000000\n",
       "Freshwater Top Predators                1574.303305\n",
       "Saltwater Filter Feeders                4878.300000\n",
       "Saltwater Omnivores                      173.705364\n",
       "Saltwater Piscivores                   58211.668932\n",
       "Saltwater Piscivores Forage            24113.823754\n",
       "Saltwater Primary Consumer Forage          0.000000\n",
       "Saltwater Top Predators               102049.150000\n",
       "Name: PCBResult(ng/g ww), dtype: float64"
      ]
     },
     "execution_count": 92,
     "metadata": {},
     "output_type": "execute_result"
    }
   ],
   "source": [
    "#Now look and see if Saltwater Filter Feeders can be dropped...\n",
    "\n",
    "df2.groupby(['SpeciesGroup'])['PCBResult(ng/g ww)'].sum()"
   ]
  },
  {
   "cell_type": "code",
   "execution_count": 93,
   "id": "d61a0fa8",
   "metadata": {},
   "outputs": [
    {
     "data": {
      "text/plain": [
       "147075    550.51\n",
       "147076    550.51\n",
       "147077    550.51\n",
       "147078    550.51\n",
       "147079    550.51\n",
       "           ...  \n",
       "187816    553.37\n",
       "187817    553.37\n",
       "187818    553.37\n",
       "187819    553.37\n",
       "187820    553.37\n",
       "Name: CompositeWeight(g), Length: 25720, dtype: float64"
      ]
     },
     "execution_count": 93,
     "metadata": {},
     "output_type": "execute_result"
    }
   ],
   "source": [
    "# Looking at the Composite Weight Column, that's where the weight value for this is stored\n",
    "df2.loc[df2['SpeciesGroup']== 'Saltwater Filter Feeders','CompositeWeight(g)']"
   ]
  },
  {
   "cell_type": "code",
   "execution_count": 94,
   "id": "6f5847a6",
   "metadata": {},
   "outputs": [],
   "source": [
    "df2.loc[(df2['SpeciesGroup']== 'Saltwater Filter Feeders' )&(df2['WeightAvg(g)'].isna())]= df2.loc[(df2['SpeciesGroup']== 'Saltwater Filter Feeders' )&(df2['WeightAvg(g)'].isna())].fillna(df2.loc[df2['SpeciesGroup']== 'Saltwater Filter Feeders','CompositeWeight(g)'])"
   ]
  },
  {
   "cell_type": "code",
   "execution_count": 95,
   "id": "1478c7c9",
   "metadata": {
    "colab": {
     "base_uri": "https://localhost:8080/",
     "height": 1000
    },
    "id": "1478c7c9",
    "outputId": "c3e312a8-dac1-49d1-dbec-403dc3b45650",
    "scrolled": true
   },
   "outputs": [
    {
     "data": {
      "text/plain": [
       "ProjectName                    0\n",
       "CompositeID                    0\n",
       "StationName                    0\n",
       "StationCode                    0\n",
       "Latitude                       0\n",
       "Longitude                      0\n",
       "GeometryShape                  0\n",
       "EarliestDateSampled            0\n",
       "CompositeType                  0\n",
       "CommonName                     0\n",
       "TissueName                     0\n",
       "NumberFishperComp              7\n",
       "SampleTypeCode                 0\n",
       "CompositeReplicate             0\n",
       "ResultReplicate                0\n",
       "Analyte                        0\n",
       "Unit                           0\n",
       "Result                         0\n",
       "LabSampleID                    0\n",
       "OrganismGroup                  0\n",
       "WeightAvg(g)               25730\n",
       "TLMax(mm)                  25753\n",
       "TLAvgLength(mm)            25753\n",
       "CompSizeCheck              25753\n",
       "SexSummary                     7\n",
       "TissueResultRowID              0\n",
       "CompositeLatitude              0\n",
       "CompositeLongitude             0\n",
       "OrganismID                     0\n",
       "TotalCount                     7\n",
       "ForkLength                 30136\n",
       "TotalLength(mm)            27065\n",
       "OrganismWeight(g)          27124\n",
       "Sex                            0\n",
       "TissueID                       0\n",
       "TissueWeight(g)                0\n",
       "CompositeWeight(g)             0\n",
       "HomogonizedDate                0\n",
       "TLMin(mm)                  25753\n",
       "PCBResult(ng/g ww)         22133\n",
       "MercuryResult(ng/g ww)    105081\n",
       "PBDEResult(ng/g ww)       104178\n",
       "SpeciesGroup                   0\n",
       "dtype: int64"
      ]
     },
     "execution_count": 95,
     "metadata": {},
     "output_type": "execute_result"
    }
   ],
   "source": [
    "df2.isna().sum()"
   ]
  },
  {
   "cell_type": "code",
   "execution_count": 96,
   "id": "6e801482",
   "metadata": {
    "colab": {
     "base_uri": "https://localhost:8080/"
    },
    "id": "6e801482",
    "outputId": "494f6a45-25a1-404e-fb32-64cdea9cc1ea"
   },
   "outputs": [
    {
     "data": {
      "text/plain": [
       "(117754, 43)"
      ]
     },
     "execution_count": 96,
     "metadata": {},
     "output_type": "execute_result"
    }
   ],
   "source": [
    "df2.shape"
   ]
  },
  {
   "cell_type": "code",
   "execution_count": 97,
   "id": "3c90aa75",
   "metadata": {
    "colab": {
     "base_uri": "https://localhost:8080/"
    },
    "id": "3c90aa75",
    "outputId": "552507e4-51b6-4b17-fed7-94f12b340c2b"
   },
   "outputs": [
    {
     "data": {
      "text/plain": [
       "(117754, 38)"
      ]
     },
     "execution_count": 97,
     "metadata": {},
     "output_type": "execute_result"
    }
   ],
   "source": [
    "col_drop = ['NumberFishperComp','CompSizeCheck','SexSummary','ForkLength','TotalCount']\n",
    "df2.drop(columns = col_drop, inplace=True)\n",
    "df2.shape"
   ]
  },
  {
   "cell_type": "code",
   "execution_count": 98,
   "id": "a02898b8",
   "metadata": {
    "colab": {
     "base_uri": "https://localhost:8080/",
     "height": 1000
    },
    "id": "a02898b8",
    "outputId": "b1c1874b-a42f-46cb-f0e1-808c6a2624a2",
    "scrolled": false
   },
   "outputs": [
    {
     "data": {
      "text/plain": [
       "ProjectName                    0\n",
       "CompositeID                    0\n",
       "StationName                    0\n",
       "StationCode                    0\n",
       "Latitude                       0\n",
       "Longitude                      0\n",
       "GeometryShape                  0\n",
       "EarliestDateSampled            0\n",
       "CompositeType                  0\n",
       "CommonName                     0\n",
       "TissueName                     0\n",
       "SampleTypeCode                 0\n",
       "CompositeReplicate             0\n",
       "ResultReplicate                0\n",
       "Analyte                        0\n",
       "Unit                           0\n",
       "Result                         0\n",
       "LabSampleID                    0\n",
       "OrganismGroup                  0\n",
       "WeightAvg(g)               25730\n",
       "TLMax(mm)                  25753\n",
       "TLAvgLength(mm)            25753\n",
       "TissueResultRowID              0\n",
       "CompositeLatitude              0\n",
       "CompositeLongitude             0\n",
       "OrganismID                     0\n",
       "TotalLength(mm)            27065\n",
       "OrganismWeight(g)          27124\n",
       "Sex                            0\n",
       "TissueID                       0\n",
       "TissueWeight(g)                0\n",
       "CompositeWeight(g)             0\n",
       "HomogonizedDate                0\n",
       "TLMin(mm)                  25753\n",
       "PCBResult(ng/g ww)         22133\n",
       "MercuryResult(ng/g ww)    105081\n",
       "PBDEResult(ng/g ww)       104178\n",
       "SpeciesGroup                   0\n",
       "dtype: int64"
      ]
     },
     "execution_count": 98,
     "metadata": {},
     "output_type": "execute_result"
    }
   ],
   "source": [
    "df2.isna().sum()"
   ]
  },
  {
   "cell_type": "code",
   "execution_count": 99,
   "id": "a446c38b",
   "metadata": {
    "colab": {
     "base_uri": "https://localhost:8080/"
    },
    "id": "a446c38b",
    "outputId": "06f5554e-251f-422f-e8b6-992e5be75ab5",
    "scrolled": true
   },
   "outputs": [
    {
     "name": "stdout",
     "output_type": "stream",
     "text": [
      "TLMax(mm) SpeciesGroup\n",
      "Saltwater Filter Feeders    25720\n",
      "Saltwater Top Predators        19\n",
      "Saltwater Piscivores           14\n",
      "Name: count, dtype: int64\n",
      "TLAvgLength(mm) SpeciesGroup\n",
      "Saltwater Filter Feeders    25720\n",
      "Saltwater Top Predators        19\n",
      "Saltwater Piscivores           14\n",
      "Name: count, dtype: int64\n",
      "TotalLength(mm) SpeciesGroup\n",
      "Saltwater Filter Feeders    25720\n",
      "Saltwater Top Predators      1327\n",
      "Saltwater Piscivores           18\n",
      "Name: count, dtype: int64\n",
      "OrganismWeight(g) SpeciesGroup\n",
      "Saltwater Filter Feeders    25720\n",
      "Saltwater Top Predators      1308\n",
      "Saltwater Piscivores           96\n",
      "Name: count, dtype: int64\n",
      "TLMin(mm) SpeciesGroup\n",
      "Saltwater Filter Feeders    25720\n",
      "Saltwater Top Predators        19\n",
      "Saltwater Piscivores           14\n",
      "Name: count, dtype: int64\n"
     ]
    }
   ],
   "source": [
    "species = ['Freshwater Filter Feeders','Freshwater Primary Consumer Forage','Freshwater Omnivores Forage','Freshwater Omnivores','Freshwater Piscivores','Freshwater Top Predators','Saltwater Filter Feeders','Saltwater Primary Consumer Forage','Saltwater Omnivores','Saltwater Piscivores Forage','Saltwater Piscivores','Saltwater Top Predators','Primary Consumers']\n",
    "unit = ['TLMax(mm)','TLAvgLength(mm)','TotalLength(mm)','OrganismWeight(g)','TLMin(mm)']\n",
    "\n",
    "for u in unit:\n",
    "    unit_na = df2[df2[u].isna()]\n",
    "    print(u, unit_na['SpeciesGroup'].value_counts())"
   ]
  },
  {
   "cell_type": "code",
   "execution_count": 100,
   "id": "b75b8f64",
   "metadata": {
    "colab": {
     "base_uri": "https://localhost:8080/"
    },
    "id": "b75b8f64",
    "outputId": "d2a6053d-e6ba-4f47-8bd6-b54f5c1b2b63",
    "scrolled": true
   },
   "outputs": [
    {
     "name": "stdout",
     "output_type": "stream",
     "text": [
      "Saltwater Piscivores,TLMax(mm),mean:273.5103379349116,median:275.0\n",
      "Saltwater Piscivores,TLAvgLength(mm),mean:243.99187956774315,median:245.0\n",
      "Saltwater Piscivores,TotalLength(mm),mean:243.9736332396126,median:235.0\n",
      "Saltwater Piscivores,OrganismWeight(g),mean:256.33571419601935,median:170.0\n",
      "Saltwater Piscivores,TLMin(mm),mean:221.5348241614092,median:201.0\n",
      "Saltwater Top Predators,TLMax(mm),mean:769.5897646414887,median:452.0\n",
      "Saltwater Top Predators,TLAvgLength(mm),mean:714.0123152709359,median:424.0\n",
      "Saltwater Top Predators,TotalLength(mm),mean:515.9731457800511,median:433.0\n",
      "Saltwater Top Predators,OrganismWeight(g),mean:1670.1910359408032,median:800.0\n",
      "Saltwater Top Predators,TLMin(mm),mean:649.2082649151615,median:370.0\n",
      "Saltwater Filter Feeders,TLMax(mm),mean:nan,median:nan\n",
      "Saltwater Filter Feeders,TLAvgLength(mm),mean:nan,median:nan\n",
      "Saltwater Filter Feeders,TotalLength(mm),mean:nan,median:nan\n",
      "Saltwater Filter Feeders,OrganismWeight(g),mean:nan,median:nan\n",
      "Saltwater Filter Feeders,TLMin(mm),mean:nan,median:nan\n"
     ]
    },
    {
     "name": "stderr",
     "output_type": "stream",
     "text": [
      "/opt/anaconda3/envs/ml_env/lib/python3.8/site-packages/numpy/lib/nanfunctions.py:1215: RuntimeWarning: Mean of empty slice\n",
      "  return np.nanmean(a, axis, out=out, keepdims=keepdims)\n",
      "/opt/anaconda3/envs/ml_env/lib/python3.8/site-packages/numpy/lib/nanfunctions.py:1215: RuntimeWarning: Mean of empty slice\n",
      "  return np.nanmean(a, axis, out=out, keepdims=keepdims)\n",
      "/opt/anaconda3/envs/ml_env/lib/python3.8/site-packages/numpy/lib/nanfunctions.py:1215: RuntimeWarning: Mean of empty slice\n",
      "  return np.nanmean(a, axis, out=out, keepdims=keepdims)\n",
      "/opt/anaconda3/envs/ml_env/lib/python3.8/site-packages/numpy/lib/nanfunctions.py:1215: RuntimeWarning: Mean of empty slice\n",
      "  return np.nanmean(a, axis, out=out, keepdims=keepdims)\n",
      "/opt/anaconda3/envs/ml_env/lib/python3.8/site-packages/numpy/lib/nanfunctions.py:1215: RuntimeWarning: Mean of empty slice\n",
      "  return np.nanmean(a, axis, out=out, keepdims=keepdims)\n"
     ]
    }
   ],
   "source": [
    "species_na = ['Saltwater Piscivores','Saltwater Top Predators','Saltwater Filter Feeders']\n",
    "\n",
    "\n",
    "for s in species_na:\n",
    "    for u in unit:\n",
    "        mean=df2.loc[df2['SpeciesGroup']== s][u].mean()\n",
    "        median=df2.loc[df2['SpeciesGroup']== s][u].median()\n",
    "        print(f'{s},{u},mean:{mean},median:{median}')"
   ]
  },
  {
   "cell_type": "code",
   "execution_count": 101,
   "id": "65ceb40e",
   "metadata": {},
   "outputs": [],
   "source": [
    "#End up still having to drop Saltwater Filter Feeders sinces all its other unit values are null\n",
    "df2.drop(df2[df2['SpeciesGroup']== 'Saltwater Filter Feeders'].index, inplace=True)"
   ]
  },
  {
   "cell_type": "markdown",
   "id": "37a9959d",
   "metadata": {},
   "source": [
    "Plot the median and mean for Saltwater Piscivores and Saltwater Top Predators to see which value to use to fill in nulls"
   ]
  },
  {
   "cell_type": "code",
   "execution_count": 102,
   "id": "6dfd03d2",
   "metadata": {
    "colab": {
     "base_uri": "https://localhost:8080/",
     "height": 1000
    },
    "id": "6dfd03d2",
    "outputId": "96de0f4b-4829-471c-ec2e-a73b91144e61"
   },
   "outputs": [
    {
     "data": {
      "image/png": "[encoded data removed]",
      "text/plain": [
       "<Figure size 2500x2500 with 6 Axes>"
      ]
     },
     "metadata": {},
     "output_type": "display_data"
    }
   ],
   "source": [
    "# Saltwater Piscivores\n",
    "fig, ax = plt.subplots(3,2, figsize=(25,25))\n",
    "\n",
    "# Plot the histograms by group\n",
    "for i,u in enumerate(unit):\n",
    "    plt.subplot(3,2,i+1)\n",
    "    sns.histplot(data=df2.loc[df2['SpeciesGroup']== 'Saltwater Piscivores'], x=u)\n",
    "    mean_values = df2.loc[df2['SpeciesGroup']== 'Saltwater Piscivores'][u].mean()\n",
    "    plt.axvline(mean_values, color= \"red\", ls=\"--\", label=f\"{u} Mean\")\n",
    "    median_values = df2.loc[df2['SpeciesGroup']== 'Saltwater Piscivores'][u].median()\n",
    "    plt.axvline(median_values, color=\"yellow\", ls=\"--\", label=f\"{u} Median\")\n",
    "    plt.xlabel(u)\n",
    "    plt.ylabel(\"count\")\n",
    "    plt.title(f'Saltwater Piscivores{u}')\n",
    "    plt.legend()\n",
    "\n",
    "# Add legend and labels\n",
    "plt.tight_layout()\n",
    "plt.show()"
   ]
  },
  {
   "cell_type": "code",
   "execution_count": 103,
   "id": "103a6ef2",
   "metadata": {
    "colab": {
     "base_uri": "https://localhost:8080/",
     "height": 1000
    },
    "id": "103a6ef2",
    "outputId": "30d37404-97fd-4cf1-9e4b-066ef8e799f5"
   },
   "outputs": [
    {
     "data": {
      "image/png": "[encoded data removed]",
      "text/plain": [
       "<Figure size 2500x2500 with 6 Axes>"
      ]
     },
     "metadata": {},
     "output_type": "display_data"
    }
   ],
   "source": [
    "# Saltwater Top Predators\n",
    "fig, ax = plt.subplots(3,2, figsize=(25,25))\n",
    "\n",
    "# Plot the histograms by group\n",
    "for i,u in enumerate(unit):\n",
    "    plt.subplot(3,2,i+1)\n",
    "    sns.histplot(data=df2.loc[df2['SpeciesGroup']== 'Saltwater Top Predators'], x=u)\n",
    "    mean_values = df2.loc[df2['SpeciesGroup']== 'Saltwater Top Predators'][u].mean()\n",
    "    plt.axvline(mean_values, color= \"red\", ls=\"--\", label=f\"{u} Mean\")\n",
    "    median_values = df2.loc[df2['SpeciesGroup']== 'Saltwater Top Predators'][u].median()\n",
    "    plt.axvline(median_values, color=\"yellow\", ls=\"--\", label=f\"{u} Median\")\n",
    "    plt.xlabel(u)\n",
    "    plt.ylabel(\"count\")\n",
    "    plt.title(f'Saltwater Top Predators{u}')\n",
    "    plt.legend()\n",
    "\n",
    "# Add legend and labels\n",
    "plt.tight_layout()\n",
    "plt.show()"
   ]
  },
  {
   "cell_type": "code",
   "execution_count": 104,
   "id": "7e508b61",
   "metadata": {
    "colab": {
     "base_uri": "https://localhost:8080/"
    },
    "id": "7e508b61",
    "outputId": "97382220-3141-468b-91c0-2d178477bfa9"
   },
   "outputs": [
    {
     "name": "stdout",
     "output_type": "stream",
     "text": [
      "Saltwater Piscivores TLMax(mm) 0\n",
      "Saltwater Top Predators TLMax(mm) 0\n",
      "Saltwater Filter Feeders TLMax(mm) 0\n",
      "Saltwater Piscivores TLAvgLength(mm) 0\n",
      "Saltwater Top Predators TLAvgLength(mm) 0\n",
      "Saltwater Filter Feeders TLAvgLength(mm) 0\n",
      "Saltwater Piscivores TotalLength(mm) 0\n",
      "Saltwater Top Predators TotalLength(mm) 0\n",
      "Saltwater Filter Feeders TotalLength(mm) 0\n",
      "Saltwater Piscivores OrganismWeight(g) 0\n",
      "Saltwater Top Predators OrganismWeight(g) 0\n",
      "Saltwater Filter Feeders OrganismWeight(g) 0\n",
      "Saltwater Piscivores TLMin(mm) 0\n",
      "Saltwater Top Predators TLMin(mm) 0\n",
      "Saltwater Filter Feeders TLMin(mm) 0\n"
     ]
    }
   ],
   "source": [
    "#fill in null values with median since it is closer to the distributions of values for both groups\n",
    "\n",
    "for u in unit:\n",
    "    for s in species_na:\n",
    "        df2.loc[(df2['SpeciesGroup']== s)&(df2[u].isna())] = df2.loc[(df2['SpeciesGroup']== s)&(df2[u].isna())].fillna(df2.loc[df2['SpeciesGroup']== s][u].median())\n",
    "        print(s,u, df2.loc[df2['SpeciesGroup']== s][u].isna().sum())"
   ]
  },
  {
   "cell_type": "code",
   "execution_count": 105,
   "id": "6fd1d245",
   "metadata": {
    "colab": {
     "base_uri": "https://localhost:8080/",
     "height": 1000
    },
    "id": "6fd1d245",
    "outputId": "66169d88-4859-44d1-bc7a-33b043fc496d"
   },
   "outputs": [
    {
     "data": {
      "text/plain": [
       "ProjectName                   0\n",
       "CompositeID                   0\n",
       "StationName                   0\n",
       "StationCode                   0\n",
       "Latitude                      0\n",
       "Longitude                     0\n",
       "GeometryShape                 0\n",
       "EarliestDateSampled           0\n",
       "CompositeType                 0\n",
       "CommonName                    0\n",
       "TissueName                    0\n",
       "SampleTypeCode                0\n",
       "CompositeReplicate            0\n",
       "ResultReplicate               0\n",
       "Analyte                       0\n",
       "Unit                          0\n",
       "Result                        0\n",
       "LabSampleID                   0\n",
       "OrganismGroup                 0\n",
       "WeightAvg(g)                  0\n",
       "TLMax(mm)                     0\n",
       "TLAvgLength(mm)               0\n",
       "TissueResultRowID             0\n",
       "CompositeLatitude             0\n",
       "CompositeLongitude            0\n",
       "OrganismID                    0\n",
       "TotalLength(mm)               0\n",
       "OrganismWeight(g)             0\n",
       "Sex                           0\n",
       "TissueID                      0\n",
       "TissueWeight(g)               0\n",
       "CompositeWeight(g)            0\n",
       "HomogonizedDate               0\n",
       "TLMin(mm)                     0\n",
       "PCBResult(ng/g ww)        14258\n",
       "MercuryResult(ng/g ww)    78281\n",
       "PBDEResult(ng/g ww)       84559\n",
       "SpeciesGroup                  0\n",
       "dtype: int64"
      ]
     },
     "execution_count": 105,
     "metadata": {},
     "output_type": "execute_result"
    }
   ],
   "source": [
    "df2.isna().sum()"
   ]
  },
  {
   "cell_type": "markdown",
   "id": "469055fa",
   "metadata": {},
   "source": [
    "There are null values in the result columns from the \"pivoting\" that we did. It makes sense to fill it out with null values"
   ]
  },
  {
   "cell_type": "code",
   "execution_count": 106,
   "id": "47f91958",
   "metadata": {},
   "outputs": [],
   "source": [
    "Results_fillna = ['PCBResult(ng/g ww)','MercuryResult(ng/g ww)','PBDEResult(ng/g ww)']\n",
    "\n",
    "for col in Results_fillna:\n",
    "    df2[col].fillna(value=0)"
   ]
  },
  {
   "cell_type": "code",
   "execution_count": 107,
   "id": "fef1389c",
   "metadata": {
    "id": "80ea5b8f",
    "scrolled": true
   },
   "outputs": [
    {
     "data": {
      "text/html": [
       "<div>\n",
       "<style scoped>\n",
       "    .dataframe tbody tr th:only-of-type {\n",
       "        vertical-align: middle;\n",
       "    }\n",
       "\n",
       "    .dataframe tbody tr th {\n",
       "        vertical-align: top;\n",
       "    }\n",
       "\n",
       "    .dataframe thead th {\n",
       "        text-align: right;\n",
       "    }\n",
       "</style>\n",
       "<table border=\"1\" class=\"dataframe\">\n",
       "  <thead>\n",
       "    <tr style=\"text-align: right;\">\n",
       "      <th></th>\n",
       "      <th>ProjectName</th>\n",
       "      <th>CompositeID</th>\n",
       "      <th>StationName</th>\n",
       "      <th>StationCode</th>\n",
       "      <th>Latitude</th>\n",
       "      <th>Longitude</th>\n",
       "      <th>GeometryShape</th>\n",
       "      <th>EarliestDateSampled</th>\n",
       "      <th>CompositeType</th>\n",
       "      <th>CommonName</th>\n",
       "      <th>TissueName</th>\n",
       "      <th>SampleTypeCode</th>\n",
       "      <th>CompositeReplicate</th>\n",
       "      <th>ResultReplicate</th>\n",
       "      <th>Analyte</th>\n",
       "      <th>Unit</th>\n",
       "      <th>Result</th>\n",
       "      <th>LabSampleID</th>\n",
       "      <th>OrganismGroup</th>\n",
       "      <th>WeightAvg(g)</th>\n",
       "      <th>TLMax(mm)</th>\n",
       "      <th>TLAvgLength(mm)</th>\n",
       "      <th>TissueResultRowID</th>\n",
       "      <th>CompositeLatitude</th>\n",
       "      <th>CompositeLongitude</th>\n",
       "      <th>OrganismID</th>\n",
       "      <th>TotalLength(mm)</th>\n",
       "      <th>OrganismWeight(g)</th>\n",
       "      <th>Sex</th>\n",
       "      <th>TissueID</th>\n",
       "      <th>TissueWeight(g)</th>\n",
       "      <th>CompositeWeight(g)</th>\n",
       "      <th>HomogonizedDate</th>\n",
       "      <th>TLMin(mm)</th>\n",
       "      <th>PCBResult(ng/g ww)</th>\n",
       "      <th>MercuryResult(ng/g ww)</th>\n",
       "      <th>PBDEResult(ng/g ww)</th>\n",
       "      <th>SpeciesGroup</th>\n",
       "    </tr>\n",
       "  </thead>\n",
       "  <tbody>\n",
       "    <tr>\n",
       "      <th>0</th>\n",
       "      <td>City of Long Beach Colorado Lagoon TMDL Monito...</td>\n",
       "      <td>F1-190709</td>\n",
       "      <td>Composite of 3 sub areas within the Western Ar...</td>\n",
       "      <td>F1</td>\n",
       "      <td>33.771563</td>\n",
       "      <td>-118.133022</td>\n",
       "      <td>PointCent</td>\n",
       "      <td>07/09/2019</td>\n",
       "      <td>Normal</td>\n",
       "      <td>Top Smelt</td>\n",
       "      <td>whole organism</td>\n",
       "      <td>Composite</td>\n",
       "      <td>1.0</td>\n",
       "      <td>1.0</td>\n",
       "      <td>PCB</td>\n",
       "      <td>ng/g ww</td>\n",
       "      <td>0.0</td>\n",
       "      <td>570-1214-1</td>\n",
       "      <td>Fish</td>\n",
       "      <td>35.5625</td>\n",
       "      <td>10.6</td>\n",
       "      <td>10.6</td>\n",
       "      <td>439107A5-DF06-4F18-A3A1-DEFE91EA1B72</td>\n",
       "      <td>33.7716</td>\n",
       "      <td>-118.133</td>\n",
       "      <td>F1-190709</td>\n",
       "      <td>1.06</td>\n",
       "      <td>-88.0</td>\n",
       "      <td>NR</td>\n",
       "      <td>30083058</td>\n",
       "      <td>-88.0</td>\n",
       "      <td>-88.0</td>\n",
       "      <td>01/01/1950</td>\n",
       "      <td>10.6</td>\n",
       "      <td>0.0</td>\n",
       "      <td>35.5625</td>\n",
       "      <td>35.5625</td>\n",
       "      <td>Saltwater Piscivores Forage</td>\n",
       "    </tr>\n",
       "    <tr>\n",
       "      <th>1</th>\n",
       "      <td>City of Long Beach Colorado Lagoon TMDL Monito...</td>\n",
       "      <td>F1-190709</td>\n",
       "      <td>Composite of 3 sub areas within the Western Ar...</td>\n",
       "      <td>F1</td>\n",
       "      <td>33.771563</td>\n",
       "      <td>-118.133022</td>\n",
       "      <td>PointCent</td>\n",
       "      <td>07/09/2019</td>\n",
       "      <td>Normal</td>\n",
       "      <td>Top Smelt</td>\n",
       "      <td>whole organism</td>\n",
       "      <td>Composite</td>\n",
       "      <td>1.0</td>\n",
       "      <td>1.0</td>\n",
       "      <td>PCB</td>\n",
       "      <td>ng/g ww</td>\n",
       "      <td>0.0</td>\n",
       "      <td>570-1214-1</td>\n",
       "      <td>Fish</td>\n",
       "      <td>35.5625</td>\n",
       "      <td>10.6</td>\n",
       "      <td>10.6</td>\n",
       "      <td>E59C2843-198F-4492-80BC-7261BB186EA1</td>\n",
       "      <td>33.7716</td>\n",
       "      <td>-118.133</td>\n",
       "      <td>F1-190709</td>\n",
       "      <td>1.06</td>\n",
       "      <td>-88.0</td>\n",
       "      <td>NR</td>\n",
       "      <td>30083058</td>\n",
       "      <td>-88.0</td>\n",
       "      <td>-88.0</td>\n",
       "      <td>01/01/1950</td>\n",
       "      <td>10.6</td>\n",
       "      <td>0.0</td>\n",
       "      <td>35.5625</td>\n",
       "      <td>35.5625</td>\n",
       "      <td>Saltwater Piscivores Forage</td>\n",
       "    </tr>\n",
       "    <tr>\n",
       "      <th>2</th>\n",
       "      <td>City of Long Beach Colorado Lagoon TMDL Monito...</td>\n",
       "      <td>F1-190709</td>\n",
       "      <td>Composite of 3 sub areas within the Western Ar...</td>\n",
       "      <td>F1</td>\n",
       "      <td>33.771563</td>\n",
       "      <td>-118.133022</td>\n",
       "      <td>PointCent</td>\n",
       "      <td>07/09/2019</td>\n",
       "      <td>Normal</td>\n",
       "      <td>Top Smelt</td>\n",
       "      <td>whole organism</td>\n",
       "      <td>Composite</td>\n",
       "      <td>1.0</td>\n",
       "      <td>1.0</td>\n",
       "      <td>PCB</td>\n",
       "      <td>ng/g ww</td>\n",
       "      <td>0.0</td>\n",
       "      <td>570-1214-1</td>\n",
       "      <td>Fish</td>\n",
       "      <td>35.5625</td>\n",
       "      <td>10.6</td>\n",
       "      <td>10.6</td>\n",
       "      <td>7F351E75-BA55-4A6A-A717-7A5AB749BEEA</td>\n",
       "      <td>33.7716</td>\n",
       "      <td>-118.133</td>\n",
       "      <td>F1-190709</td>\n",
       "      <td>1.06</td>\n",
       "      <td>-88.0</td>\n",
       "      <td>NR</td>\n",
       "      <td>30083058</td>\n",
       "      <td>-88.0</td>\n",
       "      <td>-88.0</td>\n",
       "      <td>01/01/1950</td>\n",
       "      <td>10.6</td>\n",
       "      <td>0.0</td>\n",
       "      <td>35.5625</td>\n",
       "      <td>35.5625</td>\n",
       "      <td>Saltwater Piscivores Forage</td>\n",
       "    </tr>\n",
       "    <tr>\n",
       "      <th>3</th>\n",
       "      <td>City of Long Beach Colorado Lagoon TMDL Monito...</td>\n",
       "      <td>F1-190709</td>\n",
       "      <td>Composite of 3 sub areas within the Western Ar...</td>\n",
       "      <td>F1</td>\n",
       "      <td>33.771563</td>\n",
       "      <td>-118.133022</td>\n",
       "      <td>PointCent</td>\n",
       "      <td>07/09/2019</td>\n",
       "      <td>Normal</td>\n",
       "      <td>Top Smelt</td>\n",
       "      <td>whole organism</td>\n",
       "      <td>Composite</td>\n",
       "      <td>1.0</td>\n",
       "      <td>1.0</td>\n",
       "      <td>PCB</td>\n",
       "      <td>ng/g ww</td>\n",
       "      <td>0.0</td>\n",
       "      <td>570-1214-1</td>\n",
       "      <td>Fish</td>\n",
       "      <td>35.5625</td>\n",
       "      <td>10.6</td>\n",
       "      <td>10.6</td>\n",
       "      <td>27CF3794-4FBD-455F-93FE-E60E7512813B</td>\n",
       "      <td>33.7716</td>\n",
       "      <td>-118.133</td>\n",
       "      <td>F1-190709</td>\n",
       "      <td>1.06</td>\n",
       "      <td>-88.0</td>\n",
       "      <td>NR</td>\n",
       "      <td>30083058</td>\n",
       "      <td>-88.0</td>\n",
       "      <td>-88.0</td>\n",
       "      <td>01/01/1950</td>\n",
       "      <td>10.6</td>\n",
       "      <td>0.0</td>\n",
       "      <td>35.5625</td>\n",
       "      <td>35.5625</td>\n",
       "      <td>Saltwater Piscivores Forage</td>\n",
       "    </tr>\n",
       "    <tr>\n",
       "      <th>4</th>\n",
       "      <td>City of Long Beach Colorado Lagoon TMDL Monito...</td>\n",
       "      <td>F1-190709</td>\n",
       "      <td>Composite of 3 sub areas within the Western Ar...</td>\n",
       "      <td>F1</td>\n",
       "      <td>33.771563</td>\n",
       "      <td>-118.133022</td>\n",
       "      <td>PointCent</td>\n",
       "      <td>07/09/2019</td>\n",
       "      <td>Normal</td>\n",
       "      <td>Top Smelt</td>\n",
       "      <td>whole organism</td>\n",
       "      <td>Composite</td>\n",
       "      <td>1.0</td>\n",
       "      <td>1.0</td>\n",
       "      <td>PCB</td>\n",
       "      <td>ng/g ww</td>\n",
       "      <td>0.0</td>\n",
       "      <td>570-1214-1</td>\n",
       "      <td>Fish</td>\n",
       "      <td>35.5625</td>\n",
       "      <td>10.6</td>\n",
       "      <td>10.6</td>\n",
       "      <td>08342AD5-F915-4687-8C21-C338F8AB629A</td>\n",
       "      <td>33.7716</td>\n",
       "      <td>-118.133</td>\n",
       "      <td>F1-190709</td>\n",
       "      <td>1.06</td>\n",
       "      <td>-88.0</td>\n",
       "      <td>NR</td>\n",
       "      <td>30083058</td>\n",
       "      <td>-88.0</td>\n",
       "      <td>-88.0</td>\n",
       "      <td>01/01/1950</td>\n",
       "      <td>10.6</td>\n",
       "      <td>0.0</td>\n",
       "      <td>35.5625</td>\n",
       "      <td>35.5625</td>\n",
       "      <td>Saltwater Piscivores Forage</td>\n",
       "    </tr>\n",
       "  </tbody>\n",
       "</table>\n",
       "</div>"
      ],
      "text/plain": [
       "                                         ProjectName CompositeID   \n",
       "0  City of Long Beach Colorado Lagoon TMDL Monito...   F1-190709  \\\n",
       "1  City of Long Beach Colorado Lagoon TMDL Monito...   F1-190709   \n",
       "2  City of Long Beach Colorado Lagoon TMDL Monito...   F1-190709   \n",
       "3  City of Long Beach Colorado Lagoon TMDL Monito...   F1-190709   \n",
       "4  City of Long Beach Colorado Lagoon TMDL Monito...   F1-190709   \n",
       "\n",
       "                                         StationName StationCode   Latitude   \n",
       "0  Composite of 3 sub areas within the Western Ar...          F1  33.771563  \\\n",
       "1  Composite of 3 sub areas within the Western Ar...          F1  33.771563   \n",
       "2  Composite of 3 sub areas within the Western Ar...          F1  33.771563   \n",
       "3  Composite of 3 sub areas within the Western Ar...          F1  33.771563   \n",
       "4  Composite of 3 sub areas within the Western Ar...          F1  33.771563   \n",
       "\n",
       "    Longitude GeometryShape EarliestDateSampled CompositeType CommonName   \n",
       "0 -118.133022     PointCent          07/09/2019        Normal  Top Smelt  \\\n",
       "1 -118.133022     PointCent          07/09/2019        Normal  Top Smelt   \n",
       "2 -118.133022     PointCent          07/09/2019        Normal  Top Smelt   \n",
       "3 -118.133022     PointCent          07/09/2019        Normal  Top Smelt   \n",
       "4 -118.133022     PointCent          07/09/2019        Normal  Top Smelt   \n",
       "\n",
       "       TissueName SampleTypeCode  CompositeReplicate  ResultReplicate Analyte   \n",
       "0  whole organism      Composite                 1.0              1.0     PCB  \\\n",
       "1  whole organism      Composite                 1.0              1.0     PCB   \n",
       "2  whole organism      Composite                 1.0              1.0     PCB   \n",
       "3  whole organism      Composite                 1.0              1.0     PCB   \n",
       "4  whole organism      Composite                 1.0              1.0     PCB   \n",
       "\n",
       "      Unit  Result LabSampleID OrganismGroup  WeightAvg(g)  TLMax(mm)   \n",
       "0  ng/g ww     0.0  570-1214-1          Fish       35.5625       10.6  \\\n",
       "1  ng/g ww     0.0  570-1214-1          Fish       35.5625       10.6   \n",
       "2  ng/g ww     0.0  570-1214-1          Fish       35.5625       10.6   \n",
       "3  ng/g ww     0.0  570-1214-1          Fish       35.5625       10.6   \n",
       "4  ng/g ww     0.0  570-1214-1          Fish       35.5625       10.6   \n",
       "\n",
       "   TLAvgLength(mm)                     TissueResultRowID  CompositeLatitude   \n",
       "0             10.6  439107A5-DF06-4F18-A3A1-DEFE91EA1B72            33.7716  \\\n",
       "1             10.6  E59C2843-198F-4492-80BC-7261BB186EA1            33.7716   \n",
       "2             10.6  7F351E75-BA55-4A6A-A717-7A5AB749BEEA            33.7716   \n",
       "3             10.6  27CF3794-4FBD-455F-93FE-E60E7512813B            33.7716   \n",
       "4             10.6  08342AD5-F915-4687-8C21-C338F8AB629A            33.7716   \n",
       "\n",
       "   CompositeLongitude OrganismID  TotalLength(mm)  OrganismWeight(g) Sex   \n",
       "0            -118.133  F1-190709             1.06              -88.0  NR  \\\n",
       "1            -118.133  F1-190709             1.06              -88.0  NR   \n",
       "2            -118.133  F1-190709             1.06              -88.0  NR   \n",
       "3            -118.133  F1-190709             1.06              -88.0  NR   \n",
       "4            -118.133  F1-190709             1.06              -88.0  NR   \n",
       "\n",
       "   TissueID  TissueWeight(g)  CompositeWeight(g) HomogonizedDate  TLMin(mm)   \n",
       "0  30083058            -88.0               -88.0      01/01/1950       10.6  \\\n",
       "1  30083058            -88.0               -88.0      01/01/1950       10.6   \n",
       "2  30083058            -88.0               -88.0      01/01/1950       10.6   \n",
       "3  30083058            -88.0               -88.0      01/01/1950       10.6   \n",
       "4  30083058            -88.0               -88.0      01/01/1950       10.6   \n",
       "\n",
       "   PCBResult(ng/g ww)  MercuryResult(ng/g ww)  PBDEResult(ng/g ww)   \n",
       "0                 0.0                 35.5625              35.5625  \\\n",
       "1                 0.0                 35.5625              35.5625   \n",
       "2                 0.0                 35.5625              35.5625   \n",
       "3                 0.0                 35.5625              35.5625   \n",
       "4                 0.0                 35.5625              35.5625   \n",
       "\n",
       "                  SpeciesGroup  \n",
       "0  Saltwater Piscivores Forage  \n",
       "1  Saltwater Piscivores Forage  \n",
       "2  Saltwater Piscivores Forage  \n",
       "3  Saltwater Piscivores Forage  \n",
       "4  Saltwater Piscivores Forage  "
      ]
     },
     "execution_count": 107,
     "metadata": {},
     "output_type": "execute_result"
    }
   ],
   "source": [
    "df2.reset_index(drop=True, inplace=True) #reset columns to make it clean\n",
    "df2.head() # last check"
   ]
  },
  {
   "cell_type": "markdown",
   "id": "15ff7f5e",
   "metadata": {},
   "source": [
    "### Export Cleaned Dataset for EDA"
   ]
  },
  {
   "cell_type": "code",
   "execution_count": 109,
   "id": "cbf8af0f",
   "metadata": {
    "id": "cbf8af0f"
   },
   "outputs": [],
   "source": [
    "df2.to_csv('Tissue_dataset_2019_2023_fullset_cleaned.csv')"
   ]
  }
 ],
 "metadata": {
  "colab": {
   "provenance": []
  },
  "kernelspec": {
   "display_name": "Python 3 (ipykernel)",
   "language": "python",
   "name": "python3"
  },
  "language_info": {
   "codemirror_mode": {
    "name": "ipython",
    "version": 3
   },
   "file_extension": ".py",
   "mimetype": "text/x-python",
   "name": "python",
   "nbconvert_exporter": "python",
   "pygments_lexer": "ipython3",
   "version": "3.8.15"
  }
 },
 "nbformat": 4,
 "nbformat_minor": 5
}
